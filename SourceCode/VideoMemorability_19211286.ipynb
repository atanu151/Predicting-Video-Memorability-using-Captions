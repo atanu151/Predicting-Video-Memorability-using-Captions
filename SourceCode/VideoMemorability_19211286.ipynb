{
  "nbformat": 4,
  "nbformat_minor": 0,
  "metadata": {
    "colab": {
      "name": "VideoMemorability_19211286.ipynb",
      "provenance": [],
      "collapsed_sections": []
    },
    "kernelspec": {
      "name": "python3",
      "display_name": "Python 3"
    }
  },
  "cells": [
    {
      "cell_type": "markdown",
      "metadata": {
        "id": "YcHXsHh0kwMt",
        "colab_type": "text"
      },
      "source": [
        "**Predicting Media Memorability**\n",
        "\n",
        "*The task of Predicting Media Memorability is part of the MediaEval Multimedia Assessment benchmarking initiative. The objective of this task is to automatically predict a memorability score for a video that will represent its probability of being remembered.*  \n",
        "\n",
        "**Content:**\n",
        "\n",
        "\n",
        "*   **Section 1** : Function Definitions\n",
        "*   **Section 2** : Loading Features\n",
        "*   **Section 3** : Data Pre-processing and Input feature generation\n",
        "    *   CountVectorizer\n",
        "    *   TfidfVectorizer \n",
        "    *   One-hot encoding \n",
        "*   **Section 4** : Modelling\n",
        "    *   Input : CountVectorizer\n",
        "        * Model : Sequential Neural Network\n",
        "        * Model : Decision Tree Regression\n",
        "        * Model : Random Forest Regression\n",
        "    *   Input : TfidfVectorizer\n",
        "        * Model : Sequential Neural Network\n",
        "        * Model : Decision Tree Regression\n",
        "        * Model : Random Forest Regression\n",
        "    *   Input : One-Hot Encoding\n",
        "        * Model : Sequential Neural Network\n",
        "        * Model : Decision Tree Regression\n",
        "        * Model : Random Forest Regression\n",
        "*   **Section 5** : Building Ensemble models with the best predictions\n",
        "*   **Section 6** : Results   \n",
        "\n",
        "\n",
        "\n",
        "\n",
        "\n"
      ]
    },
    {
      "cell_type": "markdown",
      "metadata": {
        "id": "fgM4xgpkoFbq",
        "colab_type": "text"
      },
      "source": [
        "**Section 1** : Function Definitions"
      ]
    },
    {
      "cell_type": "code",
      "metadata": {
        "id": "jlkzYGl_hoj2",
        "colab_type": "code",
        "colab": {}
      },
      "source": [
        "def Get_score(Y_pred,Y_true):\n",
        "    '''Calculate the Spearmann\"s correlation coefficient'''\n",
        "    Y_pred = np.squeeze(Y_pred)\n",
        "    Y_true = np.squeeze(Y_true)\n",
        "    if Y_pred.shape != Y_true.shape:\n",
        "        print('Input shapes don\\'t match!')\n",
        "    else:\n",
        "        if len(Y_pred.shape) == 1:\n",
        "            Res = pd.DataFrame({'Y_true':Y_true,'Y_pred':Y_pred})\n",
        "            score_mat = Res[['Y_true','Y_pred']].corr(method='spearman',min_periods=1)\n",
        "            print('The Spearman\\'s correlation coefficient is: %.3f' % score_mat.iloc[1][0])\n",
        "        else:\n",
        "            for ii in range(Y_pred.shape[1]):\n",
        "                Get_score(Y_pred[:,ii],Y_true[:,ii])"
      ],
      "execution_count": 0,
      "outputs": []
    },
    {
      "cell_type": "code",
      "metadata": {
        "id": "T_pLwgI_hrEu",
        "colab_type": "code",
        "outputId": "08739e38-065a-4fe0-c03f-93fde17e1c17",
        "colab": {
          "base_uri": "https://localhost:8080/",
          "height": 124
        }
      },
      "source": [
        "from google.colab import drive\n",
        "import os\n",
        "drive.mount('/content/drive/')\n",
        "os.chdir('/content/drive/My Drive/CA684_Assignment/')"
      ],
      "execution_count": 0,
      "outputs": [
        {
          "output_type": "stream",
          "text": [
            "Go to this URL in a browser: https://accounts.google.com/o/oauth2/auth?client_id=947318989803-6bn6qk8qdgf4n4g3pfee6491hc0brc4i.apps.googleusercontent.com&redirect_uri=urn%3aietf%3awg%3aoauth%3a2.0%3aoob&response_type=code&scope=email%20https%3a%2f%2fwww.googleapis.com%2fauth%2fdocs.test%20https%3a%2f%2fwww.googleapis.com%2fauth%2fdrive%20https%3a%2f%2fwww.googleapis.com%2fauth%2fdrive.photos.readonly%20https%3a%2f%2fwww.googleapis.com%2fauth%2fpeopleapi.readonly\n",
            "\n",
            "Enter your authorization code:\n",
            "··········\n",
            "Mounted at /content/drive/\n"
          ],
          "name": "stdout"
        }
      ]
    },
    {
      "cell_type": "code",
      "metadata": {
        "id": "iV7QFWhSg6Sc",
        "colab_type": "code",
        "outputId": "8d64121a-396b-47f3-deb7-4f9ec224cfba",
        "colab": {
          "base_uri": "https://localhost:8080/",
          "height": 107
        }
      },
      "source": [
        "pip install PyPrind"
      ],
      "execution_count": 0,
      "outputs": [
        {
          "output_type": "stream",
          "text": [
            "Collecting PyPrind\n",
            "  Downloading https://files.pythonhosted.org/packages/1e/30/e76fb0c45da8aef49ea8d2a90d4e7a6877b45894c25f12fb961f009a891e/PyPrind-2.11.2-py3-none-any.whl\n",
            "Installing collected packages: PyPrind\n",
            "Successfully installed PyPrind-2.11.2\n"
          ],
          "name": "stdout"
        }
      ]
    },
    {
      "cell_type": "markdown",
      "metadata": {
        "id": "3uYQaArdwUnf",
        "colab_type": "text"
      },
      "source": [
        "Importing Necesarry libraries"
      ]
    },
    {
      "cell_type": "code",
      "metadata": {
        "id": "TAx41BNPe-LE",
        "colab_type": "code",
        "outputId": "e52f12f7-76fe-476d-926c-44c5e86b00d7",
        "colab": {
          "base_uri": "https://localhost:8080/",
          "height": 35
        }
      },
      "source": [
        "import pandas as pd\n",
        "from tensorflow.python.keras import Sequential\n",
        "from tensorflow.python.keras import layers\n",
        "from tensorflow.python.keras import regularizers\n",
        "import numpy as np\n",
        "from string import punctuation\n",
        "import pyprind\n",
        "from collections import Counter\n",
        "from keras.preprocessing.text import Tokenizer\n",
        "from sklearn.model_selection import train_test_split\n",
        "import matplotlib.pyplot as plt"
      ],
      "execution_count": 0,
      "outputs": [
        {
          "output_type": "stream",
          "text": [
            "Using TensorFlow backend.\n"
          ],
          "name": "stderr"
        }
      ]
    },
    {
      "cell_type": "code",
      "metadata": {
        "id": "5O6F7-nMg5cA",
        "colab_type": "code",
        "colab": {}
      },
      "source": [
        "# for reproducability\n",
        "from numpy.random import seed\n",
        "seed(1)\n",
        "import tensorflow\n",
        "tensorflow.random.set_seed(1)"
      ],
      "execution_count": 0,
      "outputs": []
    },
    {
      "cell_type": "markdown",
      "metadata": {
        "id": "6jpseoatogJJ",
        "colab_type": "text"
      },
      "source": [
        "**Section 2** : Loading Features"
      ]
    },
    {
      "cell_type": "code",
      "metadata": {
        "id": "a4_Gs6t4hWwG",
        "colab_type": "code",
        "colab": {}
      },
      "source": [
        "# load labels and captions\n",
        "def read_caps(fname):\n",
        "    \"\"\"Load the captions into a dataframe\"\"\"\n",
        "    vn = []\n",
        "    cap = []\n",
        "    df = pd.DataFrame();\n",
        "    with open(fname) as f:\n",
        "        for line in f:\n",
        "            pairs = line.split()\n",
        "            vn.append(pairs[0])\n",
        "            cap.append(pairs[1])\n",
        "        df['video']=vn\n",
        "        df['caption']=cap\n",
        "    return df\n",
        "\n",
        "\n",
        "# load the captions\n",
        "cap_path = './Dev-set/Captions/dev-set_video-captions.txt'\n",
        "df_cap=read_caps(cap_path)\n",
        "\n",
        "# load the ground truth values\n",
        "label_path = './Dev-set/Ground-truth/'\n",
        "labels=pd.read_csv(label_path+'ground-truth.csv')"
      ],
      "execution_count": 0,
      "outputs": []
    },
    {
      "cell_type": "code",
      "metadata": {
        "id": "X52v1msPiA7D",
        "colab_type": "code",
        "outputId": "ed8512bb-c490-42d4-b8bf-538742216150",
        "colab": {
          "base_uri": "https://localhost:8080/",
          "height": 260
        }
      },
      "source": [
        "print(df_cap)"
      ],
      "execution_count": 0,
      "outputs": [
        {
          "output_type": "stream",
          "text": [
            "               video                                            caption\n",
            "0        video3.webm                 blonde-woman-is-massaged-tilt-down\n",
            "1        video4.webm  roulette-table-spinning-with-ball-in-closeup-shot\n",
            "2        video6.webm                                      khr-gangsters\n",
            "3        video8.webm               medical-helicopter-hovers-at-airport\n",
            "4       video10.webm               couple-relaxing-on-picnic-crane-shot\n",
            "...              ...                                                ...\n",
            "5995  video7488.webm        beautiful-young-woman-in-front-of-fountains\n",
            "5996  video7489.webm  focus-pull-from-molting-penguin-to-penguin-col...\n",
            "5997  video7491.webm           students-walking-in-university-of-mexico\n",
            "5998  video7492.webm                       beautiful-black-woman-at-spa\n",
            "5999  video7493.webm  beautiful-modern-brunette-woman-using-tablet-c...\n",
            "\n",
            "[6000 rows x 2 columns]\n"
          ],
          "name": "stdout"
        }
      ]
    },
    {
      "cell_type": "code",
      "metadata": {
        "id": "qGvz7azrifoD",
        "colab_type": "code",
        "outputId": "9558e3fc-aa58-43b5-e304-5171e351b6f5",
        "colab": {
          "base_uri": "https://localhost:8080/",
          "height": 260
        }
      },
      "source": [
        "print(labels)"
      ],
      "execution_count": 0,
      "outputs": [
        {
          "output_type": "stream",
          "text": [
            "               video  ...  nb_long-term_annotations\n",
            "0        video3.webm  ...                        13\n",
            "1        video4.webm  ...                        12\n",
            "2        video6.webm  ...                        10\n",
            "3        video8.webm  ...                        11\n",
            "4       video10.webm  ...                        10\n",
            "...              ...  ...                       ...\n",
            "5995  video7488.webm  ...                         9\n",
            "5996  video7489.webm  ...                        31\n",
            "5997  video7491.webm  ...                        11\n",
            "5998  video7492.webm  ...                        16\n",
            "5999  video7493.webm  ...                        13\n",
            "\n",
            "[6000 rows x 5 columns]\n"
          ],
          "name": "stdout"
        }
      ]
    },
    {
      "cell_type": "markdown",
      "metadata": {
        "id": "8bH6q9SAoofB",
        "colab_type": "text"
      },
      "source": [
        "**Section 3** : Data Pre-processing and Input feature generation"
      ]
    },
    {
      "cell_type": "code",
      "metadata": {
        "id": "CGEXw4gPkg1S",
        "colab_type": "code",
        "outputId": "ba4efcea-635a-4da3-a1fa-68a841551b7c",
        "colab": {
          "base_uri": "https://localhost:8080/",
          "height": 156
        }
      },
      "source": [
        "#loading the nltk libraries for pre-processing captions\n",
        "import nltk\n",
        "nltk.download('wordnet')\n",
        "nltk.download('averaged_perceptron_tagger')\n",
        "nltk.download('stopwords')"
      ],
      "execution_count": 0,
      "outputs": [
        {
          "output_type": "stream",
          "text": [
            "[nltk_data] Downloading package wordnet to /root/nltk_data...\n",
            "[nltk_data]   Unzipping corpora/wordnet.zip.\n",
            "[nltk_data] Downloading package averaged_perceptron_tagger to\n",
            "[nltk_data]     /root/nltk_data...\n",
            "[nltk_data]   Unzipping taggers/averaged_perceptron_tagger.zip.\n",
            "[nltk_data] Downloading package stopwords to /root/nltk_data...\n",
            "[nltk_data]   Unzipping corpora/stopwords.zip.\n"
          ],
          "name": "stdout"
        },
        {
          "output_type": "execute_result",
          "data": {
            "text/plain": [
              "True"
            ]
          },
          "metadata": {
            "tags": []
          },
          "execution_count": 1
        }
      ]
    },
    {
      "cell_type": "code",
      "metadata": {
        "id": "VbQz2Oaglw1t",
        "colab_type": "code",
        "outputId": "077f2282-6343-4196-d985-55408dc9984c",
        "colab": {
          "base_uri": "https://localhost:8080/",
          "height": 35
        }
      },
      "source": [
        "stopwords = nltk.corpus.stopwords.words('english')\n",
        "print(f'Length of Stopwords: {len(stopwords)}')"
      ],
      "execution_count": 0,
      "outputs": [
        {
          "output_type": "stream",
          "text": [
            "Length of Stopwords: 179\n"
          ],
          "name": "stdout"
        }
      ]
    },
    {
      "cell_type": "code",
      "metadata": {
        "id": "eLyvGkc_iw-m",
        "colab_type": "code",
        "outputId": "8349a369-5f27-4fdd-e37a-62c2bf32b34f",
        "colab": {
          "base_uri": "https://localhost:8080/",
          "height": 69
        }
      },
      "source": [
        "counts = Counter()\n",
        "# setup progress tracker\n",
        "pbar = pyprind.ProgBar(len(df_cap['caption']), title='Counting word occurrences',bar_char='█')\n",
        "for i, cap in enumerate(df_cap['caption']):\n",
        "    # replace punctuations with space\n",
        "    # convert words to lower case \n",
        "    # removing stopwords\n",
        "    text = ''.join([c if c not in punctuation else ' ' for c in cap]).lower()\n",
        "    rmv_stopwords= ' '.join([word for word in text.split() if word not in stopwords])\n",
        "    df_cap.loc[i,'caption'] = rmv_stopwords\n",
        "    pbar.update()\n",
        "    counts.update(text.split())"
      ],
      "execution_count": 0,
      "outputs": [
        {
          "output_type": "stream",
          "text": [
            "Counting word occurrences\n",
            "0% [██████████████████████████████] 100% | ETA: 00:00:00\n",
            "Total time elapsed: 00:00:01\n"
          ],
          "name": "stderr"
        }
      ]
    },
    {
      "cell_type": "code",
      "metadata": {
        "id": "gLlbnQErordU",
        "colab_type": "code",
        "outputId": "617759c9-ccf1-42f0-c604-54d3fc09f7d8",
        "colab": {
          "base_uri": "https://localhost:8080/",
          "height": 662
        }
      },
      "source": [
        "df_cap.head(20)"
      ],
      "execution_count": 0,
      "outputs": [
        {
          "output_type": "execute_result",
          "data": {
            "text/html": [
              "<div>\n",
              "<style scoped>\n",
              "    .dataframe tbody tr th:only-of-type {\n",
              "        vertical-align: middle;\n",
              "    }\n",
              "\n",
              "    .dataframe tbody tr th {\n",
              "        vertical-align: top;\n",
              "    }\n",
              "\n",
              "    .dataframe thead th {\n",
              "        text-align: right;\n",
              "    }\n",
              "</style>\n",
              "<table border=\"1\" class=\"dataframe\">\n",
              "  <thead>\n",
              "    <tr style=\"text-align: right;\">\n",
              "      <th></th>\n",
              "      <th>video</th>\n",
              "      <th>caption</th>\n",
              "    </tr>\n",
              "  </thead>\n",
              "  <tbody>\n",
              "    <tr>\n",
              "      <th>0</th>\n",
              "      <td>video3.webm</td>\n",
              "      <td>blonde woman massaged tilt</td>\n",
              "    </tr>\n",
              "    <tr>\n",
              "      <th>1</th>\n",
              "      <td>video4.webm</td>\n",
              "      <td>roulette table spinning ball closeup shot</td>\n",
              "    </tr>\n",
              "    <tr>\n",
              "      <th>2</th>\n",
              "      <td>video6.webm</td>\n",
              "      <td>khr gangsters</td>\n",
              "    </tr>\n",
              "    <tr>\n",
              "      <th>3</th>\n",
              "      <td>video8.webm</td>\n",
              "      <td>medical helicopter hovers airport</td>\n",
              "    </tr>\n",
              "    <tr>\n",
              "      <th>4</th>\n",
              "      <td>video10.webm</td>\n",
              "      <td>couple relaxing picnic crane shot</td>\n",
              "    </tr>\n",
              "    <tr>\n",
              "      <th>5</th>\n",
              "      <td>video12.webm</td>\n",
              "      <td>passing older man reading</td>\n",
              "    </tr>\n",
              "    <tr>\n",
              "      <th>6</th>\n",
              "      <td>video13.webm</td>\n",
              "      <td>christmas village national christmas tree</td>\n",
              "    </tr>\n",
              "    <tr>\n",
              "      <th>7</th>\n",
              "      <td>video16.webm</td>\n",
              "      <td>unhappy friends looking something interesting ...</td>\n",
              "    </tr>\n",
              "    <tr>\n",
              "      <th>8</th>\n",
              "      <td>video17.webm</td>\n",
              "      <td>hoover dam tourists traffic</td>\n",
              "    </tr>\n",
              "    <tr>\n",
              "      <th>9</th>\n",
              "      <td>video18.webm</td>\n",
              "      <td>happy girl stretching relaxing station</td>\n",
              "    </tr>\n",
              "    <tr>\n",
              "      <th>10</th>\n",
              "      <td>video19.webm</td>\n",
              "      <td>bread conveyor</td>\n",
              "    </tr>\n",
              "    <tr>\n",
              "      <th>11</th>\n",
              "      <td>video20.webm</td>\n",
              "      <td>close racks computer equipment flashing lights</td>\n",
              "    </tr>\n",
              "    <tr>\n",
              "      <th>12</th>\n",
              "      <td>video21.webm</td>\n",
              "      <td>modern family overdue burn wife</td>\n",
              "    </tr>\n",
              "    <tr>\n",
              "      <th>13</th>\n",
              "      <td>video22.webm</td>\n",
              "      <td>woman tweeting phone street restaurant</td>\n",
              "    </tr>\n",
              "    <tr>\n",
              "      <th>14</th>\n",
              "      <td>video23.webm</td>\n",
              "      <td>videoblocks woman model released points sign a...</td>\n",
              "    </tr>\n",
              "    <tr>\n",
              "      <th>15</th>\n",
              "      <td>video25.webm</td>\n",
              "      <td>bird barren twig ruins background</td>\n",
              "    </tr>\n",
              "    <tr>\n",
              "      <th>16</th>\n",
              "      <td>video26.webm</td>\n",
              "      <td>two walking businessman</td>\n",
              "    </tr>\n",
              "    <tr>\n",
              "      <th>17</th>\n",
              "      <td>video27.webm</td>\n",
              "      <td>timelapse snow mountains</td>\n",
              "    </tr>\n",
              "    <tr>\n",
              "      <th>18</th>\n",
              "      <td>video28.webm</td>\n",
              "      <td>african hartebeest coming water</td>\n",
              "    </tr>\n",
              "    <tr>\n",
              "      <th>19</th>\n",
              "      <td>video29.webm</td>\n",
              "      <td>potter works crockery creation process pottery...</td>\n",
              "    </tr>\n",
              "  </tbody>\n",
              "</table>\n",
              "</div>"
            ],
            "text/plain": [
              "           video                                            caption\n",
              "0    video3.webm                         blonde woman massaged tilt\n",
              "1    video4.webm          roulette table spinning ball closeup shot\n",
              "2    video6.webm                                      khr gangsters\n",
              "3    video8.webm                  medical helicopter hovers airport\n",
              "4   video10.webm                  couple relaxing picnic crane shot\n",
              "5   video12.webm                          passing older man reading\n",
              "6   video13.webm          christmas village national christmas tree\n",
              "7   video16.webm  unhappy friends looking something interesting ...\n",
              "8   video17.webm                        hoover dam tourists traffic\n",
              "9   video18.webm             happy girl stretching relaxing station\n",
              "10  video19.webm                                     bread conveyor\n",
              "11  video20.webm     close racks computer equipment flashing lights\n",
              "12  video21.webm                    modern family overdue burn wife\n",
              "13  video22.webm             woman tweeting phone street restaurant\n",
              "14  video23.webm  videoblocks woman model released points sign a...\n",
              "15  video25.webm                  bird barren twig ruins background\n",
              "16  video26.webm                            two walking businessman\n",
              "17  video27.webm                           timelapse snow mountains\n",
              "18  video28.webm                    african hartebeest coming water\n",
              "19  video29.webm  potter works crockery creation process pottery..."
            ]
          },
          "metadata": {
            "tags": []
          },
          "execution_count": 18
        }
      ]
    },
    {
      "cell_type": "code",
      "metadata": {
        "id": "VN17OuDx_2my",
        "colab_type": "code",
        "colab": {}
      },
      "source": [
        "from nltk.stem import WordNetLemmatizer \n",
        "from nltk.corpus import wordnet\n",
        "\n",
        "#function for setting appropriate POS tag\n",
        "def get_wordnet_pos(word):\n",
        "    \"\"\"Map POS tag to first character lemmatize() accepts\"\"\"\n",
        "    tag = nltk.pos_tag([word])[0][1][0].upper()\n",
        "    tag_dict = {\"J\": wordnet.ADJ,\n",
        "                \"N\": wordnet.NOUN,\n",
        "                \"V\": wordnet.VERB,\n",
        "                \"R\": wordnet.ADV}\n",
        "\n",
        "    return tag_dict.get(tag, wordnet.NOUN)\n",
        "\n",
        "#lemmatizing the captions\n",
        "lemmatizer = WordNetLemmatizer() \n",
        "def lemmatize_sentences(sentence):\n",
        "    tokens = sentence.split()\n",
        "    lemmatized_tokens = [lemmatizer.lemmatize(token,get_wordnet_pos(token)) for token in tokens]\n",
        "    return ' '.join(lemmatized_tokens)\n",
        "  \n",
        "df_cap['caption'] = df_cap['caption'].apply(lemmatize_sentences)"
      ],
      "execution_count": 0,
      "outputs": []
    },
    {
      "cell_type": "code",
      "metadata": {
        "id": "jEKmOQJcAacn",
        "colab_type": "code",
        "outputId": "fd4f4e86-67e9-4be5-9d8f-1e068cb538a4",
        "colab": {
          "base_uri": "https://localhost:8080/",
          "height": 355
        }
      },
      "source": [
        "df_cap.head(10)"
      ],
      "execution_count": 0,
      "outputs": [
        {
          "output_type": "execute_result",
          "data": {
            "text/html": [
              "<div>\n",
              "<style scoped>\n",
              "    .dataframe tbody tr th:only-of-type {\n",
              "        vertical-align: middle;\n",
              "    }\n",
              "\n",
              "    .dataframe tbody tr th {\n",
              "        vertical-align: top;\n",
              "    }\n",
              "\n",
              "    .dataframe thead th {\n",
              "        text-align: right;\n",
              "    }\n",
              "</style>\n",
              "<table border=\"1\" class=\"dataframe\">\n",
              "  <thead>\n",
              "    <tr style=\"text-align: right;\">\n",
              "      <th></th>\n",
              "      <th>video</th>\n",
              "      <th>caption</th>\n",
              "    </tr>\n",
              "  </thead>\n",
              "  <tbody>\n",
              "    <tr>\n",
              "      <th>0</th>\n",
              "      <td>video3.webm</td>\n",
              "      <td>blonde woman massage tilt</td>\n",
              "    </tr>\n",
              "    <tr>\n",
              "      <th>1</th>\n",
              "      <td>video4.webm</td>\n",
              "      <td>roulette table spin ball closeup shot</td>\n",
              "    </tr>\n",
              "    <tr>\n",
              "      <th>2</th>\n",
              "      <td>video6.webm</td>\n",
              "      <td>khr gangster</td>\n",
              "    </tr>\n",
              "    <tr>\n",
              "      <th>3</th>\n",
              "      <td>video8.webm</td>\n",
              "      <td>medical helicopter hovers airport</td>\n",
              "    </tr>\n",
              "    <tr>\n",
              "      <th>4</th>\n",
              "      <td>video10.webm</td>\n",
              "      <td>couple relax picnic crane shot</td>\n",
              "    </tr>\n",
              "    <tr>\n",
              "      <th>5</th>\n",
              "      <td>video12.webm</td>\n",
              "      <td>passing old man reading</td>\n",
              "    </tr>\n",
              "    <tr>\n",
              "      <th>6</th>\n",
              "      <td>video13.webm</td>\n",
              "      <td>christmas village national christmas tree</td>\n",
              "    </tr>\n",
              "    <tr>\n",
              "      <th>7</th>\n",
              "      <td>video16.webm</td>\n",
              "      <td>unhappy friend look something interest television</td>\n",
              "    </tr>\n",
              "    <tr>\n",
              "      <th>8</th>\n",
              "      <td>video17.webm</td>\n",
              "      <td>hoover dam tourist traffic</td>\n",
              "    </tr>\n",
              "    <tr>\n",
              "      <th>9</th>\n",
              "      <td>video18.webm</td>\n",
              "      <td>happy girl stretch relax station</td>\n",
              "    </tr>\n",
              "  </tbody>\n",
              "</table>\n",
              "</div>"
            ],
            "text/plain": [
              "          video                                            caption\n",
              "0   video3.webm                          blonde woman massage tilt\n",
              "1   video4.webm              roulette table spin ball closeup shot\n",
              "2   video6.webm                                       khr gangster\n",
              "3   video8.webm                  medical helicopter hovers airport\n",
              "4  video10.webm                     couple relax picnic crane shot\n",
              "5  video12.webm                            passing old man reading\n",
              "6  video13.webm          christmas village national christmas tree\n",
              "7  video16.webm  unhappy friend look something interest television\n",
              "8  video17.webm                         hoover dam tourist traffic\n",
              "9  video18.webm                   happy girl stretch relax station"
            ]
          },
          "metadata": {
            "tags": []
          },
          "execution_count": 20
        }
      ]
    },
    {
      "cell_type": "code",
      "metadata": {
        "id": "PUCpWkAm-vOz",
        "colab_type": "code",
        "outputId": "6aa59f60-3203-4c24-d717-2d7d5733c8b0",
        "colab": {
          "base_uri": "https://localhost:8080/",
          "height": 202
        }
      },
      "source": [
        "#stemming the captions didn't produced good results, hence commented out and not used. The results are shown below.\n",
        "'''from nltk.stem import LancasterStemmer\n",
        "lancaster=LancasterStemmer()\n",
        "def stem_sentences(sentence):\n",
        "    tokens = sentence.split()\n",
        "    stemmed_tokens = [lancaster.stem(token) for token in tokens]\n",
        "    return ' '.join(stemmed_tokens)\n",
        "  \n",
        "df_cap['caption'] = df_cap['caption'].apply(stem_sentences)\n",
        "\n",
        "#the result after stemming the captions\n",
        "df_cap.head()'''"
      ],
      "execution_count": 0,
      "outputs": [
        {
          "output_type": "execute_result",
          "data": {
            "text/html": [
              "<div>\n",
              "<style scoped>\n",
              "    .dataframe tbody tr th:only-of-type {\n",
              "        vertical-align: middle;\n",
              "    }\n",
              "\n",
              "    .dataframe tbody tr th {\n",
              "        vertical-align: top;\n",
              "    }\n",
              "\n",
              "    .dataframe thead th {\n",
              "        text-align: right;\n",
              "    }\n",
              "</style>\n",
              "<table border=\"1\" class=\"dataframe\">\n",
              "  <thead>\n",
              "    <tr style=\"text-align: right;\">\n",
              "      <th></th>\n",
              "      <th>video</th>\n",
              "      <th>caption</th>\n",
              "    </tr>\n",
              "  </thead>\n",
              "  <tbody>\n",
              "    <tr>\n",
              "      <th>0</th>\n",
              "      <td>video3.webm</td>\n",
              "      <td>blond wom mass tilt</td>\n",
              "    </tr>\n",
              "    <tr>\n",
              "      <th>1</th>\n",
              "      <td>video4.webm</td>\n",
              "      <td>roulet tabl spin bal closeup shot</td>\n",
              "    </tr>\n",
              "    <tr>\n",
              "      <th>2</th>\n",
              "      <td>video6.webm</td>\n",
              "      <td>khr gangst</td>\n",
              "    </tr>\n",
              "    <tr>\n",
              "      <th>3</th>\n",
              "      <td>video8.webm</td>\n",
              "      <td>med helicopt hov airport</td>\n",
              "    </tr>\n",
              "    <tr>\n",
              "      <th>4</th>\n",
              "      <td>video10.webm</td>\n",
              "      <td>coupl relax picn cran shot</td>\n",
              "    </tr>\n",
              "  </tbody>\n",
              "</table>\n",
              "</div>"
            ],
            "text/plain": [
              "          video                            caption\n",
              "0   video3.webm                blond wom mass tilt\n",
              "1   video4.webm  roulet tabl spin bal closeup shot\n",
              "2   video6.webm                         khr gangst\n",
              "3   video8.webm           med helicopt hov airport\n",
              "4  video10.webm         coupl relax picn cran shot"
            ]
          },
          "metadata": {
            "tags": []
          },
          "execution_count": 14
        }
      ]
    },
    {
      "cell_type": "markdown",
      "metadata": {
        "id": "WVrwAT-muz_V",
        "colab_type": "text"
      },
      "source": [
        "CountVectorizer"
      ]
    },
    {
      "cell_type": "code",
      "metadata": {
        "id": "9otb6cZ5VC7j",
        "colab_type": "code",
        "colab": {}
      },
      "source": [
        "#CountVectorizer\n",
        "from sklearn.feature_extraction.text import CountVectorizer\n",
        "count_vect=CountVectorizer(min_df=1, stop_words='english') \n",
        "X_counts=count_vect.fit_transform(df_cap['caption'])\n",
        "in_count_vect=X_counts.toarray()"
      ],
      "execution_count": 0,
      "outputs": []
    },
    {
      "cell_type": "code",
      "metadata": {
        "id": "TImHQ6ORq05V",
        "colab_type": "code",
        "outputId": "6eb31de4-1eba-4570-baaf-a63acfcfa4d6",
        "colab": {
          "base_uri": "https://localhost:8080/",
          "height": 139
        }
      },
      "source": [
        "in_count_vect"
      ],
      "execution_count": 0,
      "outputs": [
        {
          "output_type": "execute_result",
          "data": {
            "text/plain": [
              "array([[0, 0, 0, ..., 0, 0, 0],\n",
              "       [0, 0, 0, ..., 0, 0, 0],\n",
              "       [0, 0, 0, ..., 0, 0, 0],\n",
              "       ...,\n",
              "       [0, 0, 0, ..., 0, 0, 0],\n",
              "       [0, 0, 0, ..., 0, 0, 0],\n",
              "       [0, 0, 0, ..., 0, 0, 0]])"
            ]
          },
          "metadata": {
            "tags": []
          },
          "execution_count": 57
        }
      ]
    },
    {
      "cell_type": "code",
      "metadata": {
        "id": "xtGgKebEP084",
        "colab_type": "code",
        "outputId": "f254d3a2-d774-4649-b543-ee6f1a2da628",
        "colab": {
          "base_uri": "https://localhost:8080/",
          "height": 1000
        }
      },
      "source": [
        "count_vect.get_feature_names()"
      ],
      "execution_count": 0,
      "outputs": [
        {
          "output_type": "execute_result",
          "data": {
            "text/plain": [
              "['aasleagh',\n",
              " 'ab',\n",
              " 'abandon',\n",
              " 'abdominal',\n",
              " 'aboveof',\n",
              " 'abraham',\n",
              " 'abseil',\n",
              " 'abstract',\n",
              " 'ac',\n",
              " 'access',\n",
              " 'accident',\n",
              " 'accidently',\n",
              " 'accompany',\n",
              " 'account',\n",
              " 'acrobatic',\n",
              " 'action',\n",
              " 'active',\n",
              " 'actively',\n",
              " 'activity',\n",
              " 'actor',\n",
              " 'actual',\n",
              " 'acupuncture',\n",
              " 'acupuncturist',\n",
              " 'add',\n",
              " 'addict',\n",
              " 'addo',\n",
              " 'adjust',\n",
              " 'administer',\n",
              " 'admire',\n",
              " 'admires',\n",
              " 'adorable',\n",
              " 'adu',\n",
              " 'adult',\n",
              " 'advance',\n",
              " 'advantage',\n",
              " 'advice',\n",
              " 'aegean',\n",
              " 'aerial',\n",
              " 'aerialat',\n",
              " 'aerialk',\n",
              " 'aerialof',\n",
              " 'aerialover',\n",
              " 'affection',\n",
              " 'africa',\n",
              " 'african',\n",
              " 'afro',\n",
              " 'aftermath',\n",
              " 'afternoon',\n",
              " 'agains',\n",
              " 'age',\n",
              " 'agency',\n",
              " 'agent',\n",
              " 'ahead',\n",
              " 'aim',\n",
              " 'aiport',\n",
              " 'air',\n",
              " 'aircraft',\n",
              " 'aire',\n",
              " 'airlock',\n",
              " 'airplane',\n",
              " 'airport',\n",
              " 'aisen',\n",
              " 'aitutaki',\n",
              " 'ajman',\n",
              " 'akvamarine',\n",
              " 'alarm',\n",
              " 'alaska',\n",
              " 'alaskan',\n",
              " 'alberca',\n",
              " 'albuquerque',\n",
              " 'alcoholic',\n",
              " 'alert',\n",
              " 'alexandria',\n",
              " 'alexey',\n",
              " 'algae',\n",
              " 'alight',\n",
              " 'alley',\n",
              " 'alligator',\n",
              " 'alongside',\n",
              " 'alp',\n",
              " 'alpine',\n",
              " 'alsatian',\n",
              " 'amateur',\n",
              " 'amazon',\n",
              " 'ambulance',\n",
              " 'american',\n",
              " 'amid',\n",
              " 'amsterdam',\n",
              " 'amtrak',\n",
              " 'amuse',\n",
              " 'amusement',\n",
              " 'analysis',\n",
              " 'ancient',\n",
              " 'anemonefish',\n",
              " 'anenome',\n",
              " 'angeles',\n",
              " 'angkor',\n",
              " 'angle',\n",
              " 'angleof',\n",
              " 'angry',\n",
              " 'angular',\n",
              " 'anhinga',\n",
              " 'anima',\n",
              " 'animal',\n",
              " 'animate',\n",
              " 'anonymous',\n",
              " 'answer',\n",
              " 'ant',\n",
              " 'antarctica',\n",
              " 'antelope',\n",
              " 'antenna',\n",
              " 'antigua',\n",
              " 'antique',\n",
              " 'apartment',\n",
              " 'apollo',\n",
              " 'app',\n",
              " 'appear',\n",
              " 'appetizing',\n",
              " 'applaud',\n",
              " 'apple',\n",
              " 'application',\n",
              " 'apply',\n",
              " 'approach',\n",
              " 'approve',\n",
              " 'april',\n",
              " 'apsara',\n",
              " 'aquamarine',\n",
              " 'aquarium',\n",
              " 'arabian',\n",
              " 'aransas',\n",
              " 'arc',\n",
              " 'arccapturing',\n",
              " 'arch',\n",
              " 'architect',\n",
              " 'architectural',\n",
              " 'architecture',\n",
              " 'archway',\n",
              " 'area',\n",
              " 'arena',\n",
              " 'argentina',\n",
              " 'argue',\n",
              " 'arizona',\n",
              " 'arlington',\n",
              " 'arm',\n",
              " 'armchair',\n",
              " 'army',\n",
              " 'arrange',\n",
              " 'arrival',\n",
              " 'arrive',\n",
              " 'art',\n",
              " 'artist',\n",
              " 'asana',\n",
              " 'ascend',\n",
              " 'ascension',\n",
              " 'ashkelon',\n",
              " 'ashore',\n",
              " 'asia',\n",
              " 'asian',\n",
              " 'aside',\n",
              " 'ask',\n",
              " 'aspen',\n",
              " 'asphalt',\n",
              " 'assemble',\n",
              " 'assembly',\n",
              " 'associate',\n",
              " 'assort',\n",
              " 'astronaut',\n",
              " 'atd',\n",
              " 'athensk',\n",
              " 'athlete',\n",
              " 'athletic',\n",
              " 'atlantis',\n",
              " 'atm',\n",
              " 'atmosphere',\n",
              " 'atop',\n",
              " 'attach',\n",
              " 'attack',\n",
              " 'attractive',\n",
              " 'atv',\n",
              " 'atvx',\n",
              " 'aubergine',\n",
              " 'august',\n",
              " 'aunt',\n",
              " 'aurelia',\n",
              " 'australia',\n",
              " 'authentic',\n",
              " 'auto',\n",
              " 'automate',\n",
              " 'automobile',\n",
              " 'autumn',\n",
              " 'avb',\n",
              " 'avoid',\n",
              " 'await',\n",
              " 'away',\n",
              " 'axe',\n",
              " 'azure',\n",
              " 'baboon',\n",
              " 'baby',\n",
              " 'babyboy',\n",
              " 'bacalar',\n",
              " 'backdrop',\n",
              " 'backflip',\n",
              " 'backgroun',\n",
              " 'background',\n",
              " 'backhoe',\n",
              " 'backing',\n",
              " 'backlit',\n",
              " 'backpack',\n",
              " 'backpacker',\n",
              " 'backpacking',\n",
              " 'backwards',\n",
              " 'backyard',\n",
              " 'bacon',\n",
              " 'bad',\n",
              " 'bag',\n",
              " 'baggage',\n",
              " 'bake',\n",
              " 'baker',\n",
              " 'bakery',\n",
              " 'baking',\n",
              " 'balance',\n",
              " 'balcony',\n",
              " 'bald',\n",
              " 'balkony',\n",
              " 'ball',\n",
              " 'ballerina',\n",
              " 'balloon',\n",
              " 'balloonsk',\n",
              " 'ballot',\n",
              " 'baltic',\n",
              " 'banagher',\n",
              " 'banana',\n",
              " 'band',\n",
              " 'bandana',\n",
              " 'banjo',\n",
              " 'bank',\n",
              " 'banknote',\n",
              " 'banner',\n",
              " 'bar',\n",
              " 'barbecue',\n",
              " 'barbed',\n",
              " 'barbell',\n",
              " 'barber',\n",
              " 'barbershop',\n",
              " 'barcelona',\n",
              " 'barcuttinglemons',\n",
              " 'bare',\n",
              " 'barefoot',\n",
              " 'barge',\n",
              " 'baring',\n",
              " 'barista',\n",
              " 'bark',\n",
              " 'barking',\n",
              " 'barley',\n",
              " 'barn',\n",
              " 'barracuda',\n",
              " 'barrell',\n",
              " 'barren',\n",
              " 'bartender',\n",
              " 'base',\n",
              " 'baseball',\n",
              " 'basil',\n",
              " 'basin',\n",
              " 'basket',\n",
              " 'basketball',\n",
              " 'basketballin',\n",
              " 'basking',\n",
              " 'bass',\n",
              " 'bat',\n",
              " 'bath',\n",
              " 'bathrobe',\n",
              " 'bathroom',\n",
              " 'bathtub',\n",
              " 'batter',\n",
              " 'battery',\n",
              " 'battle',\n",
              " 'battlefield',\n",
              " 'bavaria',\n",
              " 'bay',\n",
              " 'bayonet',\n",
              " 'bazaar',\n",
              " 'beach',\n",
              " 'beachgoers',\n",
              " 'beachk',\n",
              " 'beachy',\n",
              " 'bead',\n",
              " 'beak',\n",
              " 'beaker',\n",
              " 'beam',\n",
              " 'bean',\n",
              " 'bear',\n",
              " 'beard',\n",
              " 'beat',\n",
              " 'beautician',\n",
              " 'beautiful',\n",
              " 'beauty',\n",
              " 'beautyof',\n",
              " 'beaver',\n",
              " 'bed',\n",
              " 'bedroom',\n",
              " 'bee',\n",
              " 'beekeeper',\n",
              " 'beer',\n",
              " 'beetle',\n",
              " 'begin',\n",
              " 'bell',\n",
              " 'belly',\n",
              " 'belozersky',\n",
              " 'belt',\n",
              " 'bench',\n",
              " 'bend',\n",
              " 'bending',\n",
              " 'beneath',\n",
              " 'benefit',\n",
              " 'bengal',\n",
              " 'berlin',\n",
              " 'bermuda',\n",
              " 'berry',\n",
              " 'best',\n",
              " 'beverage',\n",
              " 'bicycle',\n",
              " 'big',\n",
              " 'bike',\n",
              " 'bikers',\n",
              " 'biking',\n",
              " 'bikini',\n",
              " 'billboard',\n",
              " 'billiard',\n",
              " 'billowing',\n",
              " 'binoculars',\n",
              " 'biochemist',\n",
              " 'biologist',\n",
              " 'biotech',\n",
              " 'biotechnology',\n",
              " 'birch',\n",
              " 'bird',\n",
              " 'birdcage',\n",
              " 'birding',\n",
              " 'birthday',\n",
              " 'bistro',\n",
              " 'bit',\n",
              " 'biting',\n",
              " 'black',\n",
              " 'blackboard',\n",
              " 'blackmagic',\n",
              " 'blacksmith',\n",
              " 'blanc',\n",
              " 'blanket',\n",
              " 'blast',\n",
              " 'blazer',\n",
              " 'blazing',\n",
              " 'bleacher',\n",
              " 'blender',\n",
              " 'blessing',\n",
              " 'blinking',\n",
              " 'blizzard',\n",
              " 'blog',\n",
              " 'blond',\n",
              " 'blonde',\n",
              " 'blood',\n",
              " 'bloodpressure',\n",
              " 'bloom',\n",
              " 'blooming',\n",
              " 'bloomy',\n",
              " 'blossom',\n",
              " 'blow',\n",
              " 'blowing',\n",
              " 'blown',\n",
              " 'blue',\n",
              " 'blueprint',\n",
              " 'blueptints',\n",
              " 'bluff',\n",
              " 'blur',\n",
              " 'blurry',\n",
              " 'bo',\n",
              " 'board',\n",
              " 'boarder',\n",
              " 'boardfrom',\n",
              " 'boarding',\n",
              " 'boardroom',\n",
              " 'boat',\n",
              " 'bobbing',\n",
              " 'bobcat',\n",
              " 'body',\n",
              " 'bodybuilder',\n",
              " 'bodyof',\n",
              " 'boil',\n",
              " 'boiler',\n",
              " 'bokeh',\n",
              " 'bolt',\n",
              " 'bombed',\n",
              " 'bomber',\n",
              " 'book',\n",
              " 'bookcase',\n",
              " 'bookshelf',\n",
              " 'boom',\n",
              " 'booster',\n",
              " 'boot',\n",
              " 'booth',\n",
              " 'bore',\n",
              " 'boring',\n",
              " 'bos',\n",
              " 'boston',\n",
              " 'bottle',\n",
              " 'bought',\n",
              " 'boulder',\n",
              " 'bounce',\n",
              " 'bound',\n",
              " 'bouquet',\n",
              " 'bourbon',\n",
              " 'boutique',\n",
              " 'bow',\n",
              " 'bowl',\n",
              " 'box',\n",
              " 'boxer',\n",
              " 'boxing',\n",
              " 'boy',\n",
              " 'boyfriend',\n",
              " 'brace',\n",
              " 'bracelet',\n",
              " 'brain',\n",
              " 'brainstorming',\n",
              " 'brainwave',\n",
              " 'branch',\n",
              " 'brass',\n",
              " 'bread',\n",
              " 'break',\n",
              " 'breakdancer',\n",
              " 'breakfast',\n",
              " 'breakfastink',\n",
              " 'breather',\n",
              " 'breathing',\n",
              " 'breeze',\n",
              " 'brick',\n",
              " 'bridal',\n",
              " 'bride',\n",
              " 'bridge',\n",
              " 'briefcase',\n",
              " 'bright',\n",
              " 'brightly',\n",
              " 'bring',\n",
              " 'british',\n",
              " 'broadcast',\n",
              " 'broccoli',\n",
              " 'brooklyn',\n",
              " 'broom',\n",
              " 'brow',\n",
              " 'brown',\n",
              " 'browsing',\n",
              " 'brunet',\n",
              " 'brunette',\n",
              " 'bruschettas',\n",
              " 'brush',\n",
              " 'brushing',\n",
              " 'bryan',\n",
              " 'bryant',\n",
              " 'bryce',\n",
              " 'bubble',\n",
              " 'bubbler',\n",
              " 'buck',\n",
              " 'bucket',\n",
              " 'buenos',\n",
              " 'buffalo',\n",
              " 'buffet',\n",
              " 'bug',\n",
              " 'buggy',\n",
              " 'builder',\n",
              " 'building',\n",
              " 'buisiness',\n",
              " 'bull',\n",
              " 'bully',\n",
              " 'bumper',\n",
              " 'bun',\n",
              " 'bunch',\n",
              " 'bungalow',\n",
              " 'bungee',\n",
              " 'bungy',\n",
              " 'bunny',\n",
              " 'buoy',\n",
              " 'bureau',\n",
              " 'burger',\n",
              " 'burn',\n",
              " 'burning',\n",
              " 'bus',\n",
              " 'bush',\n",
              " 'business',\n",
              " 'businesscouple',\n",
              " 'businesslady',\n",
              " 'businessman',\n",
              " 'businessmann',\n",
              " 'businessmeeting',\n",
              " 'businessmen',\n",
              " 'businesspeople',\n",
              " 'businesswoman',\n",
              " 'busk',\n",
              " 'bustard',\n",
              " 'bustle',\n",
              " 'bustling',\n",
              " 'busy',\n",
              " 'butcher',\n",
              " 'butterfly',\n",
              " 'button',\n",
              " 'buy',\n",
              " 'buying',\n",
              " 'bye',\n",
              " 'ca',\n",
              " 'cabbage',\n",
              " 'cabin',\n",
              " 'cabinet',\n",
              " 'cafe',\n",
              " 'cafek',\n",
              " 'cafeteria',\n",
              " 'cage',\n",
              " 'cake',\n",
              " 'calbuco',\n",
              " 'calculate',\n",
              " 'calculator',\n",
              " 'calf',\n",
              " 'california',\n",
              " 'calm',\n",
              " 'cambod',\n",
              " 'cambodia',\n",
              " 'cambodian',\n",
              " 'cambrils',\n",
              " 'camera',\n",
              " 'camerais',\n",
              " 'cameraman',\n",
              " 'cameraon',\n",
              " 'camouflage',\n",
              " 'camp',\n",
              " 'campaign',\n",
              " 'campfire',\n",
              " 'campus',\n",
              " 'cana',\n",
              " 'canada',\n",
              " 'canadian',\n",
              " 'canal',\n",
              " 'candle',\n",
              " 'candy',\n",
              " 'cane',\n",
              " 'cannon',\n",
              " 'canon',\n",
              " 'canteloupes',\n",
              " 'canvas',\n",
              " 'canvass',\n",
              " 'canyon',\n",
              " 'canyonlands',\n",
              " 'cao',\n",
              " 'cap',\n",
              " 'cape',\n",
              " 'capital',\n",
              " 'capitol',\n",
              " 'capped',\n",
              " 'cappuccino',\n",
              " 'captain',\n",
              " 'capture',\n",
              " 'car',\n",
              " 'carcass',\n",
              " 'card',\n",
              " 'cardboard',\n",
              " 'cardigan',\n",
              " 'cardio',\n",
              " 'care',\n",
              " 'carefree',\n",
              " 'caress',\n",
              " 'cargo',\n",
              " 'caribbean',\n",
              " 'carnival',\n",
              " 'carousel',\n",
              " 'carpet',\n",
              " 'carriage',\n",
              " 'carrier',\n",
              " 'carrot',\n",
              " 'carry',\n",
              " 'carskx',\n",
              " 'cart',\n",
              " 'cartoon',\n",
              " 'carve',\n",
              " 'carves',\n",
              " 'cascada',\n",
              " 'case',\n",
              " 'casino',\n",
              " 'cast',\n",
              " 'castle',\n",
              " 'castro',\n",
              " 'casual',\n",
              " 'casually',\n",
              " 'cat',\n",
              " 'catch',\n",
              " 'catcher',\n",
              " 'caterpillar',\n",
              " 'catfish',\n",
              " 'cathedral',\n",
              " 'cattle',\n",
              " 'caucasian',\n",
              " 'caught',\n",
              " 'cavalry',\n",
              " 'cavalryman',\n",
              " 'cave',\n",
              " 'caw',\n",
              " 'celebrate',\n",
              " 'celebration',\n",
              " 'cell',\n",
              " 'cello',\n",
              " 'cellphone',\n",
              " 'cement',\n",
              " 'cemetery',\n",
              " 'center',\n",
              " 'central',\n",
              " 'centre',\n",
              " 'century',\n",
              " 'cereal',\n",
              " 'ceremony',\n",
              " 'ceremonyk',\n",
              " 'cew',\n",
              " 'chacabuco',\n",
              " 'chain',\n",
              " 'chainsaw',\n",
              " 'chainsawing',\n",
              " 'chair',\n",
              " 'chairlift',\n",
              " 'chaise',\n",
              " 'challenge',\n",
              " 'chalten',\n",
              " 'chamonix',\n",
              " 'champagne',\n",
              " 'champangne',\n",
              " 'change',\n",
              " 'chaning',\n",
              " 'channel',\n",
              " 'chant',\n",
              " 'chanuka',\n",
              " 'chanukia',\n",
              " 'character',\n",
              " 'charge',\n",
              " 'charismatic',\n",
              " 'charleston',\n",
              " 'charlottenburg',\n",
              " 'charm',\n",
              " 'charmer',\n",
              " 'chart',\n",
              " 'chase',\n",
              " 'chat',\n",
              " 'check',\n",
              " 'checked',\n",
              " 'checker',\n",
              " 'cheek',\n",
              " 'cheerful',\n",
              " 'cheerfully',\n",
              " 'cheerleader',\n",
              " 'cheery',\n",
              " 'cheese',\n",
              " 'chef',\n",
              " 'chekhov',\n",
              " 'chemical',\n",
              " 'cherry',\n",
              " 'chess',\n",
              " 'chest',\n",
              " 'chew',\n",
              " 'chi',\n",
              " 'chic',\n",
              " 'chick',\n",
              " 'chicken',\n",
              " 'chil',\n",
              " 'child',\n",
              " 'childern',\n",
              " 'childhood',\n",
              " 'childrens',\n",
              " 'chilean',\n",
              " 'chill',\n",
              " 'chiloe',\n",
              " 'chimney',\n",
              " 'chinese',\n",
              " 'chip',\n",
              " 'chiron',\n",
              " 'chirp',\n",
              " 'chocolate',\n",
              " 'choice',\n",
              " 'choir',\n",
              " 'choke',\n",
              " 'chonchi',\n",
              " 'choose',\n",
              " 'chooses',\n",
              " 'chop',\n",
              " 'chopped',\n",
              " 'chopstick',\n",
              " 'choreographed',\n",
              " 'christ',\n",
              " 'christian',\n",
              " 'christm',\n",
              " 'christmas',\n",
              " 'chrysler',\n",
              " 'church',\n",
              " 'cigar',\n",
              " 'cigarette',\n",
              " 'cinemagraph',\n",
              " 'circle',\n",
              " 'circular',\n",
              " 'circus',\n",
              " 'city',\n",
              " 'citycan',\n",
              " 'cityscape',\n",
              " 'civil',\n",
              " 'claim',\n",
              " 'clang',\n",
              " 'clap',\n",
              " 'clapper',\n",
              " 'clare',\n",
              " 'class',\n",
              " 'classic',\n",
              " 'classroom',\n",
              " 'clean',\n",
              " 'cleaning',\n",
              " 'cleanse',\n",
              " 'clear',\n",
              " 'clearing',\n",
              " 'client',\n",
              " 'cliff',\n",
              " 'climate',\n",
              " 'climb',\n",
              " 'climber',\n",
              " 'cling',\n",
              " 'clinic',\n",
              " 'clink',\n",
              " 'clock',\n",
              " 'close',\n",
              " 'closeof',\n",
              " 'closeup',\n",
              " 'closeupof',\n",
              " 'closi',\n",
              " 'closing',\n",
              " 'cloth',\n",
              " 'clothes',\n",
              " 'clothesline',\n",
              " 'cloud',\n",
              " 'cloudless',\n",
              " 'cloudy',\n",
              " 'clown',\n",
              " 'clownfish',\n",
              " 'club',\n",
              " 'clumsy',\n",
              " 'clunker',\n",
              " 'clutch',\n",
              " 'cnc',\n",
              " 'coal',\n",
              " 'coast',\n",
              " 'coastal',\n",
              " 'coaster',\n",
              " 'coastline',\n",
              " 'coat',\n",
              " 'coca',\n",
              " 'cockatoo',\n",
              " 'cockpit',\n",
              " 'cocktail',\n",
              " 'cocoa',\n",
              " 'coconut',\n",
              " 'code',\n",
              " 'cofa',\n",
              " 'coffe',\n",
              " 'coffee',\n",
              " 'coffin',\n",
              " 'coil',\n",
              " 'coin',\n",
              " 'cola',\n",
              " 'cold',\n",
              " 'colleague',\n",
              " 'collect',\n",
              " 'college',\n",
              " 'colomenskoe',\n",
              " 'colomna',\n",
              " 'colonial',\n",
              " 'colony',\n",
              " 'color',\n",
              " 'colorado',\n",
              " 'coloradok',\n",
              " 'colorful',\n",
              " 'colosseum',\n",
              " 'colossoma',\n",
              " 'columbia',\n",
              " 'column',\n",
              " 'comb',\n",
              " 'combat',\n",
              " 'combine',\n",
              " 'come',\n",
              " 'comfort',\n",
              " 'comfortable',\n",
              " 'commercial',\n",
              " 'common',\n",
              " 'communicate',\n",
              " 'commute',\n",
              " 'commuter',\n",
              " 'company',\n",
              " 'compass',\n",
              " 'competition',\n",
              " 'competitionjudging',\n",
              " 'complex',\n",
              " 'compute',\n",
              " 'computer',\n",
              " 'concentrate',\n",
              " 'concept',\n",
              " 'concerned',\n",
              " 'concert',\n",
              " 'concertk',\n",
              " 'concrete',\n",
              " 'condition',\n",
              " 'conduct',\n",
              " 'cone',\n",
              " 'conesk',\n",
              " 'coney',\n",
              " 'confederate',\n",
              " 'conference',\n",
              " 'confers',\n",
              " 'confident',\n",
              " 'conquers',\n",
              " 'console',\n",
              " 'construction',\n",
              " 'constructor',\n",
              " 'consult',\n",
              " 'consultant',\n",
              " 'consumption',\n",
              " 'container',\n",
              " 'contemporary',\n",
              " 'content',\n",
              " 'continent',\n",
              " 'continental',\n",
              " 'continuous',\n",
              " 'contract',\n",
              " 'contractor',\n",
              " 'control',\n",
              " 'contunuing',\n",
              " 'convention',\n",
              " 'conversation',\n",
              " 'convert',\n",
              " 'conveyor',\n",
              " 'cook',\n",
              " 'cookie',\n",
              " 'cooking',\n",
              " 'cookingk',\n",
              " 'cooky',\n",
              " 'cool',\n",
              " 'coop',\n",
              " 'copenhagen',\n",
              " 'copper',\n",
              " 'copy',\n",
              " 'copyspace',\n",
              " 'coral',\n",
              " 'corella',\n",
              " 'corgi',\n",
              " 'corkscrew',\n",
              " 'corn',\n",
              " 'cornfield',\n",
              " 'cornflakes',\n",
              " 'corporate',\n",
              " 'corral',\n",
              " 'corridor',\n",
              " 'corruption',\n",
              " 'cosmetic',\n",
              " 'cosmetician',\n",
              " 'cosmetological',\n",
              " 'cost',\n",
              " 'cotton',\n",
              " 'cottonwood',\n",
              " 'couch',\n",
              " 'count',\n",
              " 'counter',\n",
              " 'counting',\n",
              " 'country',\n",
              " 'countryside',\n",
              " 'county',\n",
              " 'couple',\n",
              " 'courgette',\n",
              " 'courier',\n",
              " 'course',\n",
              " 'court',\n",
              " 'courtyard',\n",
              " 'couscous',\n",
              " 'cover',\n",
              " 'cow',\n",
              " 'cowboy',\n",
              " 'coworking',\n",
              " 'cozy',\n",
              " 'crab',\n",
              " 'crack',\n",
              " 'cracker',\n",
              " 'craft',\n",
              " 'craftsman',\n",
              " 'cranberry',\n",
              " 'crane',\n",
              " 'crash',\n",
              " 'crate',\n",
              " 'crater',\n",
              " 'crawl',\n",
              " 'crayfish',\n",
              " 'crayon',\n",
              " 'crazily',\n",
              " 'crazy',\n",
              " 'cream',\n",
              " 'create',\n",
              " 'creates',\n",
              " 'creation',\n",
              " 'creative',\n",
              " 'creature',\n",
              " 'credit',\n",
              " 'creek',\n",
              " 'creepy',\n",
              " 'crest',\n",
              " 'crete',\n",
              " 'crevice',\n",
              " 'crew',\n",
              " 'crime',\n",
              " 'crimson',\n",
              " 'crispy',\n",
              " 'crockery',\n",
              " 'crocodile',\n",
              " 'crop',\n",
              " 'cropped',\n",
              " 'cross',\n",
              " 'crosswalk',\n",
              " 'crouch',\n",
              " 'crow',\n",
              " 'crowd',\n",
              " 'cruise',\n",
              " 'crunch',\n",
              " 'crusher',\n",
              " 'crustacean',\n",
              " 'crusteacean',\n",
              " 'ct',\n",
              " 'cu',\n",
              " 'cub',\n",
              " 'cuba',\n",
              " 'cuban',\n",
              " 'cube',\n",
              " 'cucumber',\n",
              " 'cud',\n",
              " 'cuisine',\n",
              " 'cultivate',\n",
              " 'culvert',\n",
              " 'cup',\n",
              " 'cupola',\n",
              " 'cupsp',\n",
              " 'curb',\n",
              " 'cure',\n",
              " 'curl',\n",
              " 'curly',\n",
              " 'customer',\n",
              " 'cut',\n",
              " 'cute',\n",
              " 'cutout',\n",
              " 'cutter',\n",
              " 'cyan',\n",
              " 'cyber',\n",
              " 'cycling',\n",
              " 'cyclist',\n",
              " 'cypress',\n",
              " 'dab',\n",
              " 'dad',\n",
              " 'daddy',\n",
              " 'dai',\n",
              " 'daily',\n",
              " 'dairy',\n",
              " 'daisy',\n",
              " 'dallas',\n",
              " 'dam',\n",
              " 'dance',\n",
              " 'dancer',\n",
              " 'dandelion',\n",
              " 'danger',\n",
              " 'dark',\n",
              " 'dashboard',\n",
              " 'data',\n",
              " 'date',\n",
              " 'daughter',\n",
              " 'dawn',\n",
              " 'day',\n",
              " 'daybreak',\n",
              " 'daydream',\n",
              " 'dc',\n",
              " 'dci',\n",
              " 'dead',\n",
              " 'deadline',\n",
              " 'deal',\n",
              " 'dealer',\n",
              " 'debit',\n",
              " 'deck',\n",
              " 'deckchair',\n",
              " 'decorate',\n",
              " 'decorates',\n",
              " 'decoration',\n",
              " 'decorative',\n",
              " 'deep',\n",
              " 'deer',\n",
              " 'defense',\n",
              " 'defocused',\n",
              " 'defocusedof',\n",
              " 'degree',\n",
              " 'del',\n",
              " 'deli',\n",
              " 'delicate',\n",
              " 'delicious',\n",
              " 'delivery',\n",
              " ...]"
            ]
          },
          "metadata": {
            "tags": []
          },
          "execution_count": 17
        }
      ]
    },
    {
      "cell_type": "markdown",
      "metadata": {
        "id": "MxNbeV3ou6b0",
        "colab_type": "text"
      },
      "source": [
        "TfidfVectorizer"
      ]
    },
    {
      "cell_type": "code",
      "metadata": {
        "id": "kchsVNHpVRSv",
        "colab_type": "code",
        "colab": {}
      },
      "source": [
        "#TfidfVectorizer\n",
        "from sklearn.feature_extraction.text import TfidfVectorizer\n",
        "tfidf=TfidfVectorizer(min_df=1, stop_words='english')\n",
        "X_TFIDF=tfidf.fit_transform(df_cap['caption'])\n",
        "in_tfidf=X_TFIDF.toarray()"
      ],
      "execution_count": 0,
      "outputs": []
    },
    {
      "cell_type": "code",
      "metadata": {
        "id": "8qr0v9pOqx5_",
        "colab_type": "code",
        "outputId": "90900455-8c79-40b0-9df3-a9d445bf58b1",
        "colab": {
          "base_uri": "https://localhost:8080/",
          "height": 139
        }
      },
      "source": [
        "in_tfidf"
      ],
      "execution_count": 0,
      "outputs": [
        {
          "output_type": "execute_result",
          "data": {
            "text/plain": [
              "array([[0., 0., 0., ..., 0., 0., 0.],\n",
              "       [0., 0., 0., ..., 0., 0., 0.],\n",
              "       [0., 0., 0., ..., 0., 0., 0.],\n",
              "       ...,\n",
              "       [0., 0., 0., ..., 0., 0., 0.],\n",
              "       [0., 0., 0., ..., 0., 0., 0.],\n",
              "       [0., 0., 0., ..., 0., 0., 0.]])"
            ]
          },
          "metadata": {
            "tags": []
          },
          "execution_count": 56
        }
      ]
    },
    {
      "cell_type": "markdown",
      "metadata": {
        "id": "2JoEMVMsvAYC",
        "colab_type": "text"
      },
      "source": [
        "One-hot encoding"
      ]
    },
    {
      "cell_type": "code",
      "metadata": {
        "id": "1MH2eXIWvOHN",
        "colab_type": "code",
        "colab": {}
      },
      "source": [
        "#One-Hot Encoding\n",
        "# build the word index\n",
        "len_token = len(counts)\n",
        "tokenizer = Tokenizer(num_words=len_token)\n",
        "#fit a list of captions to the tokenizer\n",
        "#the tokenizer vectorizes a text corpus, by turning each text into either a sequence of integers \n",
        "tokenizer.fit_on_texts(list(df_cap.caption.values))\n",
        "in_one_hot = tokenizer.texts_to_matrix(list(df_cap.caption.values),mode='binary')"
      ],
      "execution_count": 0,
      "outputs": []
    },
    {
      "cell_type": "code",
      "metadata": {
        "id": "uql4y-zHq3wL",
        "colab_type": "code",
        "outputId": "a60b69bb-131e-4df5-9a3d-3fd3a9317d11",
        "colab": {
          "base_uri": "https://localhost:8080/",
          "height": 139
        }
      },
      "source": [
        "in_one_hot"
      ],
      "execution_count": 0,
      "outputs": [
        {
          "output_type": "execute_result",
          "data": {
            "text/plain": [
              "array([[0., 1., 0., ..., 0., 0., 0.],\n",
              "       [0., 0., 0., ..., 0., 0., 0.],\n",
              "       [0., 0., 0., ..., 0., 0., 0.],\n",
              "       ...,\n",
              "       [0., 0., 0., ..., 0., 0., 0.],\n",
              "       [0., 1., 0., ..., 0., 0., 0.],\n",
              "       [0., 1., 0., ..., 0., 0., 0.]])"
            ]
          },
          "metadata": {
            "tags": []
          },
          "execution_count": 58
        }
      ]
    },
    {
      "cell_type": "markdown",
      "metadata": {
        "id": "Ynke_B6YvNw2",
        "colab_type": "text"
      },
      "source": [
        "**Section 4** : Modelling"
      ]
    },
    {
      "cell_type": "markdown",
      "metadata": {
        "id": "MVP3PArSM-5y",
        "colab_type": "text"
      },
      "source": [
        "\n",
        "\n",
        "*   Input Feature extracted using : **CountVectorizer**\n",
        "*   Model                         : **Sequential Neural Network**\n",
        "\n",
        "\n"
      ]
    },
    {
      "cell_type": "code",
      "metadata": {
        "id": "YRCbZSrXUXVa",
        "colab_type": "code",
        "outputId": "ec6b083d-c395-4b4d-ab94-b92ab0c2e463",
        "colab": {
          "base_uri": "https://localhost:8080/",
          "height": 903
        }
      },
      "source": [
        "from tensorflow.python.keras.callbacks import EarlyStopping\n",
        "Y = labels[['short-term_memorability','long-term_memorability']].values\n",
        "X = in_count_vect\n",
        "X_train, X_test, Y_train, Y_test = train_test_split(X,Y, test_size=0.2, random_state=42)\n",
        "n_cols = X_train.shape[1]\n",
        "\n",
        "\n",
        "# Setting up the model using Sequential model\n",
        "model1 = Sequential()\n",
        "# Add the first layer\n",
        "model1.add(layers.Dense(50, activation='relu', input_shape=(n_cols,)))\n",
        "# Add the second layer\n",
        "model1.add(layers.Dropout(0.6)) #Dropout consists in randomly setting a fraction rate of input units to 0 at each update during training; helps prevent overfitting.\n",
        "model1.add(layers.Dense(32, activation='relu'))\n",
        "# Add the third layer\n",
        "model1.add(layers.Dense(32, activation='relu'))\n",
        "\n",
        "# Define early_stopping_monitor\n",
        "early_stopping_monitor = EarlyStopping(patience=3)\n",
        "\n",
        "# Add the output layer\n",
        "model1.add(layers.Dense(2))\n",
        "\n",
        "# compile the model \n",
        "model1.compile(optimizer='rmsprop',loss='mse',metrics=['accuracy'])\n",
        "\n",
        "# training the model \n",
        "history = model1.fit(X_train,Y_train,epochs=30,validation_data=(X_test,Y_test),callbacks= [early_stopping_monitor])\n",
        "\n",
        "# visualizing the model\n",
        "loss = history.history['loss']\n",
        "val_loss = history.history['val_loss']\n",
        "\n",
        "epochs = range(1,len(loss)+1)\n",
        "\n",
        "plt.plot(epochs,loss,'bo',label='Training loss')\n",
        "plt.plot(epochs,val_loss,'b',label='Validation loss')\n",
        "plt.title('Training and validation loss')\n",
        "plt.xlabel('Epochs')\n",
        "plt.ylabel('Loss')\n",
        "plt.legend()\n",
        "plt.show()\n",
        "\n",
        "plt.figure()\n",
        "acc = history.history['accuracy']\n",
        "val_acc = history.history['val_accuracy']\n",
        "plt.plot(epochs, acc, 'bo', label='Training acc')\n",
        "plt.plot(epochs, val_acc, 'b', label='Validation acc')\n",
        "plt.title('Training and validation accuracy')\n",
        "plt.xlabel('Epochs')\n",
        "plt.ylabel('Acc')\n",
        "plt.legend()\n",
        "plt.show()\n",
        "\n",
        "cv_nn_predictions = model1.predict(X_test)\n",
        "Get_score(cv_nn_predictions, Y_test)\n",
        "error=cv_nn_predictions-Y_test\n",
        "print('RMSE on train data: {}'.format(((error**2).mean())**0.5))"
      ],
      "execution_count": 0,
      "outputs": [
        {
          "output_type": "stream",
          "text": [
            "Epoch 1/30\n",
            "150/150 [==============================] - 1s 6ms/step - loss: 0.1421 - accuracy: 0.6560 - val_loss: 0.0152 - val_accuracy: 0.7083\n",
            "Epoch 2/30\n",
            "150/150 [==============================] - 1s 5ms/step - loss: 0.0151 - accuracy: 0.6971 - val_loss: 0.0135 - val_accuracy: 0.7100\n",
            "Epoch 3/30\n",
            "150/150 [==============================] - 1s 5ms/step - loss: 0.0130 - accuracy: 0.7000 - val_loss: 0.0132 - val_accuracy: 0.7100\n",
            "Epoch 4/30\n",
            "150/150 [==============================] - 1s 5ms/step - loss: 0.0125 - accuracy: 0.7027 - val_loss: 0.0132 - val_accuracy: 0.7100\n",
            "Epoch 5/30\n",
            "150/150 [==============================] - 1s 5ms/step - loss: 0.0121 - accuracy: 0.7019 - val_loss: 0.0132 - val_accuracy: 0.7100\n",
            "Epoch 6/30\n",
            "150/150 [==============================] - 1s 5ms/step - loss: 0.0115 - accuracy: 0.7035 - val_loss: 0.0134 - val_accuracy: 0.7075\n",
            "Epoch 7/30\n",
            "150/150 [==============================] - 1s 5ms/step - loss: 0.0113 - accuracy: 0.7029 - val_loss: 0.0135 - val_accuracy: 0.7100\n",
            "Epoch 8/30\n",
            "150/150 [==============================] - 1s 5ms/step - loss: 0.0109 - accuracy: 0.7063 - val_loss: 0.0136 - val_accuracy: 0.7017\n"
          ],
          "name": "stdout"
        },
        {
          "output_type": "display_data",
          "data": {
            "image/png": "[encoded data removed]",
            "text/plain": [
              "<Figure size 432x288 with 1 Axes>"
            ]
          },
          "metadata": {
            "tags": [],
            "needs_background": "light"
          }
        },
        {
          "output_type": "display_data",
          "data": {
            "image/png": "[encoded data removed]",
            "text/plain": [
              "<Figure size 432x288 with 1 Axes>"
            ]
          },
          "metadata": {
            "tags": [],
            "needs_background": "light"
          }
        },
        {
          "output_type": "stream",
          "text": [
            "The Spearman's correlation coefficient is: 0.433\n",
            "The Spearman's correlation coefficient is: 0.182\n",
            "RMSE on train data: 0.1165280846564175\n"
          ],
          "name": "stdout"
        }
      ]
    },
    {
      "cell_type": "markdown",
      "metadata": {
        "id": "sGN1GVOyP2bb",
        "colab_type": "text"
      },
      "source": [
        "*   Input Feature extracted using : **CountVectorizer**\n",
        "*   Model                         : **Decision Tree Regressor**"
      ]
    },
    {
      "cell_type": "code",
      "metadata": {
        "id": "7Uc_qxmNFoCC",
        "colab_type": "code",
        "outputId": "9b56c616-85ca-4cc4-c1ac-54ee4c352848",
        "colab": {
          "base_uri": "https://localhost:8080/",
          "height": 52
        }
      },
      "source": [
        "from sklearn.tree import DecisionTreeRegressor\n",
        "dt1 = DecisionTreeRegressor()\n",
        "dt1.fit(X_train, Y_train)\n",
        "\n",
        "cv_dt1_predictions = dt1.predict(X_test)\n",
        "Get_score(cv_dt1_predictions, Y_test)"
      ],
      "execution_count": 0,
      "outputs": [
        {
          "output_type": "stream",
          "text": [
            "The Spearman's correlation coefficient is: 0.288\n",
            "The Spearman's correlation coefficient is: 0.131\n"
          ],
          "name": "stdout"
        }
      ]
    },
    {
      "cell_type": "markdown",
      "metadata": {
        "id": "kdqBjtKEQQvX",
        "colab_type": "text"
      },
      "source": [
        "*   Input Feature extracted using : **CountVectorizer**\n",
        "*   Model                         : **Random Forest Regressor**"
      ]
    },
    {
      "cell_type": "code",
      "metadata": {
        "id": "e0ckMIpXYbgg",
        "colab_type": "code",
        "outputId": "9cf26155-625e-4aeb-8365-ba2af69a3639",
        "colab": {
          "base_uri": "https://localhost:8080/",
          "height": 52
        }
      },
      "source": [
        "from sklearn.ensemble import RandomForestRegressor\n",
        "rf1 = RandomForestRegressor(n_estimators=50)\n",
        "rf1.fit(X_train, Y_train)\n",
        "\n",
        "cv_rf1_predictions = rf1.predict(X_test)\n",
        "Get_score(cv_rf1_predictions, Y_test)"
      ],
      "execution_count": 0,
      "outputs": [
        {
          "output_type": "stream",
          "text": [
            "The Spearman's correlation coefficient is: 0.400\n",
            "The Spearman's correlation coefficient is: 0.180\n"
          ],
          "name": "stdout"
        }
      ]
    },
    {
      "cell_type": "markdown",
      "metadata": {
        "id": "9RC5JAPoQ5h1",
        "colab_type": "text"
      },
      "source": [
        "*   Input Feature extracted using : **One-Hot Encoding**\n",
        "*   Model                         : **Sequential Neural Network**"
      ]
    },
    {
      "cell_type": "code",
      "metadata": {
        "id": "6UQepL6SWlsZ",
        "colab_type": "code",
        "outputId": "9eab4a9a-6a3f-4a7e-f55d-418f124375b3",
        "colab": {
          "base_uri": "https://localhost:8080/",
          "height": 903
        }
      },
      "source": [
        "Y = labels[['short-term_memorability','long-term_memorability']].values\n",
        "X = in_one_hot;\n",
        "X_train, X_test, Y_train, Y_test = train_test_split(X,Y, test_size=0.2, random_state=42)\n",
        "n_cols = X_train.shape[1]\n",
        "\n",
        "# Setting up the model using Sequential model\n",
        "model2 = Sequential()\n",
        "# Add the first layer\n",
        "model2.add(layers.Dense(50, activation='relu', input_shape=(n_cols,)))\n",
        "# Add the second layer\n",
        "model2.add(layers.Dropout(0.6)) #Dropout consists in randomly setting a fraction rate of input units to 0 at each update during training; helps prevent overfitting.\n",
        "model2.add(layers.Dense(32, activation='relu'))\n",
        "# Add the third layer\n",
        "model2.add(layers.Dense(32, activation='relu'))\n",
        "\n",
        "# Add the output layer\n",
        "model2.add(layers.Dense(2))\n",
        "\n",
        "# Define early_stopping_monitor\n",
        "early_stopping_monitor = EarlyStopping(patience=3)\n",
        "\n",
        "# compile the model \n",
        "model2.compile(optimizer='rmsprop',loss='mse',metrics=['accuracy'])\n",
        "\n",
        "# training the model \n",
        "hist = model2.fit(X_train,Y_train,epochs=30,validation_data=(X_test,Y_test),callbacks= [early_stopping_monitor])\n",
        "\n",
        "# visualizing the model\n",
        "loss = hist.history['loss']\n",
        "val_loss = hist.history['val_loss']\n",
        "\n",
        "epochs = range(1,len(loss)+1)\n",
        "\n",
        "plt.plot(epochs,loss,'bo',label='Training loss')\n",
        "plt.plot(epochs,val_loss,'b',label='Validation loss')\n",
        "plt.title('Training and validation loss')\n",
        "plt.xlabel('Epochs')\n",
        "plt.ylabel('Loss')\n",
        "plt.legend()\n",
        "plt.show()\n",
        "\n",
        "plt.figure()\n",
        "acc = hist.history['accuracy']\n",
        "val_acc = hist.history['val_accuracy']\n",
        "plt.plot(epochs, acc, 'bo', label='Training acc')\n",
        "plt.plot(epochs, val_acc, 'b', label='Validation acc')\n",
        "plt.title('Training and validation accuracy')\n",
        "plt.xlabel('Epochs')\n",
        "plt.ylabel('Acc')\n",
        "plt.legend()\n",
        "plt.show()\n",
        "\n",
        "onehot_nn_predictions = model2.predict(X_test)\n",
        "Get_score(onehot_nn_predictions, Y_test)\n",
        "error=onehot_nn_predictions-Y_test\n",
        "print('RMSE on train data: {}'.format(((error**2).mean())**0.5))"
      ],
      "execution_count": 0,
      "outputs": [
        {
          "output_type": "stream",
          "text": [
            "Epoch 1/30\n",
            "150/150 [==============================] - 1s 6ms/step - loss: 0.0928 - accuracy: 0.5640 - val_loss: 0.0140 - val_accuracy: 0.7100\n",
            "Epoch 2/30\n",
            "150/150 [==============================] - 1s 6ms/step - loss: 0.0145 - accuracy: 0.6985 - val_loss: 0.0135 - val_accuracy: 0.7100\n",
            "Epoch 3/30\n",
            "150/150 [==============================] - 1s 6ms/step - loss: 0.0130 - accuracy: 0.7040 - val_loss: 0.0132 - val_accuracy: 0.7100\n",
            "Epoch 4/30\n",
            "150/150 [==============================] - 1s 6ms/step - loss: 0.0125 - accuracy: 0.7052 - val_loss: 0.0132 - val_accuracy: 0.7100\n",
            "Epoch 5/30\n",
            "150/150 [==============================] - 1s 6ms/step - loss: 0.0120 - accuracy: 0.7031 - val_loss: 0.0131 - val_accuracy: 0.7100\n",
            "Epoch 6/30\n",
            "150/150 [==============================] - 1s 6ms/step - loss: 0.0116 - accuracy: 0.7046 - val_loss: 0.0134 - val_accuracy: 0.7100\n",
            "Epoch 7/30\n",
            "150/150 [==============================] - 1s 6ms/step - loss: 0.0112 - accuracy: 0.7046 - val_loss: 0.0133 - val_accuracy: 0.7100\n",
            "Epoch 8/30\n",
            "150/150 [==============================] - 1s 6ms/step - loss: 0.0108 - accuracy: 0.7085 - val_loss: 0.0135 - val_accuracy: 0.7092\n"
          ],
          "name": "stdout"
        },
        {
          "output_type": "display_data",
          "data": {
            "image/png": "[encoded data removed]",
            "text/plain": [
              "<Figure size 432x288 with 1 Axes>"
            ]
          },
          "metadata": {
            "tags": [],
            "needs_background": "light"
          }
        },
        {
          "output_type": "display_data",
          "data": {
            "image/png": "[encoded data removed]",
            "text/plain": [
              "<Figure size 432x288 with 1 Axes>"
            ]
          },
          "metadata": {
            "tags": [],
            "needs_background": "light"
          }
        },
        {
          "output_type": "stream",
          "text": [
            "The Spearman's correlation coefficient is: 0.413\n",
            "The Spearman's correlation coefficient is: 0.179\n",
            "RMSE on train data: 0.11596750708814915\n"
          ],
          "name": "stdout"
        }
      ]
    },
    {
      "cell_type": "markdown",
      "metadata": {
        "id": "Do54X04GUxZK",
        "colab_type": "text"
      },
      "source": [
        "*   Input Feature extracted using : **One-Hot Encoding**\n",
        "*   Model                         : **Decision Tree Regressor**"
      ]
    },
    {
      "cell_type": "code",
      "metadata": {
        "id": "3DK5VQ6ALph5",
        "colab_type": "code",
        "outputId": "1c5a35e6-4e14-46e8-82d0-4d749a9ccf30",
        "colab": {
          "base_uri": "https://localhost:8080/",
          "height": 52
        }
      },
      "source": [
        "dt2 = DecisionTreeRegressor()\n",
        "dt2.fit(X_train, Y_train)\n",
        "\n",
        "onehot_dt2_predictions = dt2.predict(X_test)\n",
        "Get_score(onehot_dt2_predictions, Y_test)"
      ],
      "execution_count": 0,
      "outputs": [
        {
          "output_type": "stream",
          "text": [
            "The Spearman's correlation coefficient is: 0.283\n",
            "The Spearman's correlation coefficient is: 0.130\n"
          ],
          "name": "stdout"
        }
      ]
    },
    {
      "cell_type": "markdown",
      "metadata": {
        "id": "S4fT3Gu_U54S",
        "colab_type": "text"
      },
      "source": [
        "*   Input Feature extracted using : **One-Hot Encoding**\n",
        "*   Model                         : **Random Forest Regressor**"
      ]
    },
    {
      "cell_type": "code",
      "metadata": {
        "id": "X2dDTyKKLv5_",
        "colab_type": "code",
        "outputId": "d799090e-6677-441a-8c85-35ffca94e8f8",
        "colab": {
          "base_uri": "https://localhost:8080/",
          "height": 52
        }
      },
      "source": [
        "rf2 = RandomForestRegressor(n_estimators=50)\n",
        "rf2.fit(X_train, Y_train)\n",
        "\n",
        "onehot_rf2_prediction = rf2.predict(X_test)\n",
        "Get_score(onehot_rf2_prediction, Y_test)"
      ],
      "execution_count": 0,
      "outputs": [
        {
          "output_type": "stream",
          "text": [
            "The Spearman's correlation coefficient is: 0.414\n",
            "The Spearman's correlation coefficient is: 0.169\n"
          ],
          "name": "stdout"
        }
      ]
    },
    {
      "cell_type": "markdown",
      "metadata": {
        "id": "XkYn7-eeVoyK",
        "colab_type": "text"
      },
      "source": [
        "*   Input Feature extracted using : **TfidfVectorizer**\n",
        "*   Model                         : **Sequential Neural Network**"
      ]
    },
    {
      "cell_type": "code",
      "metadata": {
        "id": "jbE75U7vbC7n",
        "colab_type": "code",
        "outputId": "1324c20b-b949-4c45-a6e9-a356202a82a0",
        "colab": {
          "base_uri": "https://localhost:8080/",
          "height": 833
        }
      },
      "source": [
        "Y = labels[['short-term_memorability','long-term_memorability']].values\n",
        "X = in_tfidf;\n",
        "X_train, X_test, Y_train, Y_test = train_test_split(X,Y, test_size=0.2, random_state=42)\n",
        "n_cols = X_train.shape[1]\n",
        "\n",
        "# Setting up the model using Sequential model\n",
        "model3 = Sequential()\n",
        "# Add the first layer\n",
        "model3.add(layers.Dense(50, activation='relu', input_shape=(n_cols,)))\n",
        "# Add the second layer\n",
        "model3.add(layers.Dropout(0.6)) #Dropout consists in randomly setting a fraction rate of input units to 0 at each update during training; helps prevent overfitting.\n",
        "model3.add(layers.Dense(32, activation='relu'))\n",
        "# Add the third layer\n",
        "model3.add(layers.Dense(32, activation='relu'))\n",
        "\n",
        "# Add the output layer\n",
        "model3.add(layers.Dense(2))\n",
        "\n",
        "# compile the model \n",
        "model3.compile(optimizer='rmsprop',loss='mse',metrics=['accuracy'])\n",
        "\n",
        "# training the model \n",
        "hist = model3.fit(X_train,Y_train,epochs=30,validation_data=(X_test,Y_test),callbacks= [early_stopping_monitor])\n",
        "\n",
        "# visualizing the model\n",
        "loss = hist.history['loss']\n",
        "val_loss = hist.history['val_loss']\n",
        "\n",
        "epochs = range(1,len(loss)+1)\n",
        "\n",
        "plt.plot(epochs,loss,'bo',label='Training loss')\n",
        "plt.plot(epochs,val_loss,'b',label='Validation loss')\n",
        "plt.title('Training and validation loss')\n",
        "plt.xlabel('Epochs')\n",
        "plt.ylabel('Loss')\n",
        "plt.legend()\n",
        "plt.show()\n",
        "\n",
        "plt.figure()\n",
        "acc = hist.history['accuracy']\n",
        "val_acc = hist.history['val_accuracy']\n",
        "plt.plot(epochs, acc, 'bo', label='Training acc')\n",
        "plt.plot(epochs, val_acc, 'b', label='Validation acc')\n",
        "plt.title('Training and validation accuracy')\n",
        "plt.xlabel('Epochs')\n",
        "plt.ylabel('Acc')\n",
        "plt.legend()\n",
        "plt.show()\n",
        "\n",
        "tfidf_nn_predictions = model3.predict(X_test)\n",
        "Get_score(tfidf_nn_predictions, Y_test)\n",
        "error=tfidf_nn_predictions-Y_test\n",
        "print('RMSE on train data: {}'.format(((error**2).mean())**0.5))"
      ],
      "execution_count": 0,
      "outputs": [
        {
          "output_type": "stream",
          "text": [
            "Epoch 1/30\n",
            "150/150 [==============================] - 1s 5ms/step - loss: 0.0897 - accuracy: 0.6677 - val_loss: 0.0138 - val_accuracy: 0.7100\n",
            "Epoch 2/30\n",
            "150/150 [==============================] - 1s 4ms/step - loss: 0.0143 - accuracy: 0.7019 - val_loss: 0.0132 - val_accuracy: 0.7100\n",
            "Epoch 3/30\n",
            "150/150 [==============================] - 1s 5ms/step - loss: 0.0126 - accuracy: 0.7031 - val_loss: 0.0131 - val_accuracy: 0.7100\n",
            "Epoch 4/30\n",
            "150/150 [==============================] - 1s 5ms/step - loss: 0.0121 - accuracy: 0.7035 - val_loss: 0.0131 - val_accuracy: 0.7100\n",
            "Epoch 5/30\n",
            "150/150 [==============================] - 1s 4ms/step - loss: 0.0117 - accuracy: 0.7044 - val_loss: 0.0131 - val_accuracy: 0.7100\n",
            "Epoch 6/30\n",
            "150/150 [==============================] - 1s 5ms/step - loss: 0.0113 - accuracy: 0.7013 - val_loss: 0.0132 - val_accuracy: 0.7067\n"
          ],
          "name": "stdout"
        },
        {
          "output_type": "display_data",
          "data": {
            "image/png": "[encoded data removed]",
            "text/plain": [
              "<Figure size 432x288 with 1 Axes>"
            ]
          },
          "metadata": {
            "tags": [],
            "needs_background": "light"
          }
        },
        {
          "output_type": "display_data",
          "data": {
            "image/png": "[encoded data removed]",
            "text/plain": [
              "<Figure size 432x288 with 1 Axes>"
            ]
          },
          "metadata": {
            "tags": [],
            "needs_background": "light"
          }
        },
        {
          "output_type": "stream",
          "text": [
            "The Spearman's correlation coefficient is: 0.436\n",
            "The Spearman's correlation coefficient is: 0.207\n",
            "RMSE on train data: 0.11488954519680478\n"
          ],
          "name": "stdout"
        }
      ]
    },
    {
      "cell_type": "markdown",
      "metadata": {
        "id": "AQoJud6IVwEa",
        "colab_type": "text"
      },
      "source": [
        "*   Input Feature extracted using : **TfidfVectorizer**\n",
        "*   Model                         : **Decision Tree Regressor**"
      ]
    },
    {
      "cell_type": "code",
      "metadata": {
        "id": "MZrIJRP4MNHf",
        "colab_type": "code",
        "outputId": "be6f9640-d3c0-4e04-f5e9-e958330e87e3",
        "colab": {
          "base_uri": "https://localhost:8080/",
          "height": 52
        }
      },
      "source": [
        "dt3 = DecisionTreeRegressor()\n",
        "dt3.fit(X_train, Y_train)\n",
        "\n",
        "tfidf_dt3_predictions = dt3.predict(X_test)\n",
        "Get_score(tfidf_dt3_predictions, Y_test)"
      ],
      "execution_count": 0,
      "outputs": [
        {
          "output_type": "stream",
          "text": [
            "The Spearman's correlation coefficient is: 0.249\n",
            "The Spearman's correlation coefficient is: 0.134\n"
          ],
          "name": "stdout"
        }
      ]
    },
    {
      "cell_type": "markdown",
      "metadata": {
        "id": "ZMFMF5gmWlTV",
        "colab_type": "text"
      },
      "source": [
        "*   Input Feature extracted using : **TfidfVectorizer**\n",
        "*   Model                         : **Random Forest Regressor**"
      ]
    },
    {
      "cell_type": "code",
      "metadata": {
        "id": "XOgPxLVcMXBE",
        "colab_type": "code",
        "outputId": "9087106a-1bb0-4f24-a085-7437dc41f69b",
        "colab": {
          "base_uri": "https://localhost:8080/",
          "height": 52
        }
      },
      "source": [
        "rf3 = RandomForestRegressor(n_estimators=50)\n",
        "rf3.fit(X_train, Y_train)\n",
        "\n",
        "tfidf_rf3_predictions = rf3.predict(X_test)\n",
        "Get_score(tfidf_rf3_predictions, Y_test)"
      ],
      "execution_count": 0,
      "outputs": [
        {
          "output_type": "stream",
          "text": [
            "The Spearman's correlation coefficient is: 0.379\n",
            "The Spearman's correlation coefficient is: 0.151\n"
          ],
          "name": "stdout"
        }
      ]
    },
    {
      "cell_type": "markdown",
      "metadata": {
        "id": "pnIqCWzKpgJk",
        "colab_type": "text"
      },
      "source": [
        "**Section 5** : Building Ensemble models with the best predictions"
      ]
    },
    {
      "cell_type": "markdown",
      "metadata": {
        "id": "RNkcKmXWvvPD",
        "colab_type": "text"
      },
      "source": [
        "For building the weighted ensemble models, the predictions of sequential NN model using TfidfVectorizer and Random Forest Regression model using CountVectorizer are used as these models produced best results for both short-term and long-term memorability.. "
      ]
    },
    {
      "cell_type": "code",
      "metadata": {
        "id": "X89Zv8_LU3Wt",
        "colab_type": "code",
        "colab": {}
      },
      "source": [
        "#concatenating the best predictions of two different models\n",
        "train_predictions = np.concatenate([cv_rf1_predictions,\n",
        "                                    tfidf_nn_predictions], axis=1)\n",
        "\n"
      ],
      "execution_count": 0,
      "outputs": []
    },
    {
      "cell_type": "code",
      "metadata": {
        "id": "7klMxn2kVDEZ",
        "colab_type": "code",
        "colab": {}
      },
      "source": [
        "#seperating the short-term and long-term predictions\n",
        "train_short = train_predictions[:,[0,2]]\n",
        "train_long = train_predictions[:,[1,3]]\n",
        "\n",
        "label_short = Y_test[:,[0]]\n",
        "label_long = Y_test[:,[1]]"
      ],
      "execution_count": 0,
      "outputs": []
    },
    {
      "cell_type": "code",
      "metadata": {
        "id": "bjVZSv4nuPZD",
        "colab_type": "code",
        "colab": {}
      },
      "source": [
        "#generating optimal weights for short-term predictions\n",
        "from sklearn.metrics import mean_squared_error\n",
        "def objective_short(weights):\n",
        "    \"\"\" Calculate the score of a weighted average of predictions\n",
        "  \n",
        "    Parameters\n",
        "    ----------\n",
        "    weights: array\n",
        "        the weights applied to the average of the base predictions\n",
        "        \n",
        "    Returns\n",
        "    -------\n",
        "    float\n",
        "        The mean_squared_error score of the ensemble\n",
        "    \"\"\"\n",
        "    y_ens = np.average(train_short, axis=1, weights=weights)\n",
        "    return mean_squared_error(label_short, y_ens)"
      ],
      "execution_count": 0,
      "outputs": []
    },
    {
      "cell_type": "code",
      "metadata": {
        "id": "Yv-PqV1wovVb",
        "colab_type": "code",
        "colab": {}
      },
      "source": [
        "#generating optimal weights for long-term predictions\n",
        "def objective_long(weights):\n",
        "    \"\"\" Calculate the score of a weighted average of predictions\n",
        "  \n",
        "    Parameters\n",
        "    ----------\n",
        "    weights: array\n",
        "        the weights applied to the average of the base predictions\n",
        "        \n",
        "    Returns\n",
        "    -------\n",
        "    float\n",
        "        The mean_squared_error score of the ensemble\n",
        "    \"\"\"\n",
        "    y_ens = np.average(train_long, axis=1, weights=weights)\n",
        "    return mean_squared_error(label_long, y_ens)"
      ],
      "execution_count": 0,
      "outputs": []
    },
    {
      "cell_type": "code",
      "metadata": {
        "id": "dh1gZ87AqS-F",
        "colab_type": "code",
        "colab": {}
      },
      "source": [
        "from scipy.optimize import minimize\n",
        "\n",
        "# equal weights are set initially for both the models\n",
        "w0 = np.empty(train_long.shape[1])\n",
        "w0.fill(.50)\n",
        "# define bounds, i.e. lower and upper values of weights.\n",
        "# the weights to be between 0 and 1.\n",
        "bounds = [(0,1)] * 2\n",
        "\n",
        "# setting some constraints. Here, the sum of the weights to be equal to 1\n",
        "cons = [{'type': 'eq',\n",
        "         'fun': lambda w: w.sum() - 1}]"
      ],
      "execution_count": 0,
      "outputs": []
    },
    {
      "cell_type": "code",
      "metadata": {
        "id": "YTPKrknnqfz7",
        "colab_type": "code",
        "outputId": "11b90cbe-591a-4b35-d91b-f39829acdfe8",
        "colab": {
          "base_uri": "https://localhost:8080/",
          "height": 191
        }
      },
      "source": [
        "# Finding the weights that will minimize my objective function.\n",
        "# There are several solvers (methods) to choose from. I choose Nelder-Mead over SLSQP as the former produced efficient weights\n",
        "res = minimize(objective_short,\n",
        "               w0,\n",
        "               #method='SLSQP',\n",
        "               method='Nelder-Mead',\n",
        "               bounds=bounds,\n",
        "               options={'disp':True, 'maxiter':10000},\n",
        "               constraints=cons)\n",
        "weights_short = res.x\n",
        "print('\\nOptimized weights:')\n",
        "print('Model 1: {:.4f}'.format(weights_short[0]))\n",
        "print('Model 2: {:.4f}'.format(weights_short[1]))"
      ],
      "execution_count": 0,
      "outputs": [
        {
          "output_type": "stream",
          "text": [
            "Optimization terminated successfully.\n",
            "         Current function value: 0.004822\n",
            "         Iterations: 38\n",
            "         Function evaluations: 75\n",
            "\n",
            "Optimized weights:\n",
            "Model 1: 0.4448\n",
            "Model 2: 0.5609\n"
          ],
          "name": "stdout"
        },
        {
          "output_type": "stream",
          "text": [
            "/usr/local/lib/python3.6/dist-packages/scipy/optimize/_minimize.py:522: RuntimeWarning: Method Nelder-Mead cannot handle constraints nor bounds.\n",
            "  RuntimeWarning)\n"
          ],
          "name": "stderr"
        }
      ]
    },
    {
      "cell_type": "code",
      "metadata": {
        "id": "YtwwqgdTu-f0",
        "colab_type": "code",
        "outputId": "28a28b62-7e1c-4a54-9493-ce2864c83a9d",
        "colab": {
          "base_uri": "https://localhost:8080/",
          "height": 191
        }
      },
      "source": [
        "# Finding the weights that will minimize my objective function.\n",
        "# There are several solvers (methods) to choose from. I choose Nelder-Mead over SLSQP as the former produced efficient weights\n",
        "res = minimize(objective_long,\n",
        "               w0,\n",
        "               #method='SLSQP',\n",
        "               method='Nelder-Mead',\n",
        "               bounds=bounds,\n",
        "               options={'disp':True, 'maxiter':10000},\n",
        "               constraints=cons)\n",
        "weights_long = res.x\n",
        "print('\\nOptimized weights:')\n",
        "print('Model 1: {:.4f}'.format(weights_long[0]))\n",
        "print('Model 2: {:.4f}'.format(weights_long[1]))"
      ],
      "execution_count": 0,
      "outputs": [
        {
          "output_type": "stream",
          "text": [
            "Optimization terminated successfully.\n",
            "         Current function value: 0.020981\n",
            "         Iterations: 51\n",
            "         Function evaluations: 96\n",
            "\n",
            "Optimized weights:\n",
            "Model 1: 0.2417\n",
            "Model 2: 0.7526\n"
          ],
          "name": "stdout"
        },
        {
          "output_type": "stream",
          "text": [
            "/usr/local/lib/python3.6/dist-packages/scipy/optimize/_minimize.py:522: RuntimeWarning: Method Nelder-Mead cannot handle constraints nor bounds.\n",
            "  RuntimeWarning)\n"
          ],
          "name": "stderr"
        }
      ]
    },
    {
      "cell_type": "markdown",
      "metadata": {
        "id": "eKO7OMGtpnIe",
        "colab_type": "text"
      },
      "source": [
        "**Section 6** : Results"
      ]
    },
    {
      "cell_type": "markdown",
      "metadata": {
        "id": "O0CTWeO4kI_d",
        "colab_type": "text"
      },
      "source": [
        "Scores with Ensemble 1 using the optimal weights for short-term memorabilty prediction"
      ]
    },
    {
      "cell_type": "code",
      "metadata": {
        "id": "VYJsMjO3yH07",
        "colab_type": "code",
        "outputId": "a7e828e4-ba95-480f-b41f-feb25c98ce83",
        "colab": {
          "base_uri": "https://localhost:8080/",
          "height": 52
        }
      },
      "source": [
        "ensemble1  = weights_short[0]*cv_rf1_predictions + weights_short[1]*tfidf_nn_predictions\n",
        "Get_score(ensemble1, Y_test)"
      ],
      "execution_count": 0,
      "outputs": [
        {
          "output_type": "stream",
          "text": [
            "The Spearman's correlation coefficient is: 0.456\n",
            "The Spearman's correlation coefficient is: 0.219\n"
          ],
          "name": "stdout"
        }
      ]
    },
    {
      "cell_type": "markdown",
      "metadata": {
        "id": "XG43tlX4kXv6",
        "colab_type": "text"
      },
      "source": [
        "Scores with Ensemble 2 using the optimal weights for long-term memorabilty prediction"
      ]
    },
    {
      "cell_type": "code",
      "metadata": {
        "id": "pE7kNRsOEJ7I",
        "colab_type": "code",
        "outputId": "78b3164b-baa2-41fe-b870-afb60bbe4608",
        "colab": {
          "base_uri": "https://localhost:8080/",
          "height": 52
        }
      },
      "source": [
        "ensemble2  = weights_long[0]*cv_rf1_predictions + weights_long[1]*tfidf_nn_predictions\n",
        "Get_score(ensemble2, Y_test)"
      ],
      "execution_count": 0,
      "outputs": [
        {
          "output_type": "stream",
          "text": [
            "The Spearman's correlation coefficient is: 0.460\n",
            "The Spearman's correlation coefficient is: 0.223\n"
          ],
          "name": "stdout"
        }
      ]
    },
    {
      "cell_type": "markdown",
      "metadata": {
        "id": "z1EuOu_Ckech",
        "colab_type": "text"
      },
      "source": [
        "Both the ensemble models got better scores than individual models"
      ]
    },
    {
      "cell_type": "code",
      "metadata": {
        "id": "_SixTn4iku9o",
        "colab_type": "code",
        "outputId": "c4c5e178-39e7-4e3c-a169-6397c108827e",
        "colab": {
          "base_uri": "https://localhost:8080/",
          "height": 297
        }
      },
      "source": [
        "ensemble1.min(axis=0)\n",
        "ensemble1.max(axis=0)\n",
        "plt.figure()\n",
        "plt.scatter(ensemble1[:,0],ensemble1[:,1],marker='o',c='r')\n",
        "plt.xlabel('short-term')\n",
        "plt.ylabel('long-term')"
      ],
      "execution_count": 0,
      "outputs": [
        {
          "output_type": "execute_result",
          "data": {
            "text/plain": [
              "Text(0, 0.5, 'long-term')"
            ]
          },
          "metadata": {
            "tags": []
          },
          "execution_count": 42
        },
        {
          "output_type": "display_data",
          "data": {
            "image/png": "[encoded data removed]",
            "text/plain": [
              "<Figure size 432x288 with 1 Axes>"
            ]
          },
          "metadata": {
            "tags": [],
            "needs_background": "light"
          }
        }
      ]
    },
    {
      "cell_type": "code",
      "metadata": {
        "id": "Aufm-U0vnhQx",
        "colab_type": "code",
        "outputId": "78233258-b9e3-4449-aea4-d54e059713d3",
        "colab": {
          "base_uri": "https://localhost:8080/",
          "height": 297
        }
      },
      "source": [
        "ensemble2.min(axis=0)\n",
        "ensemble2.max(axis=0)\n",
        "plt.figure()\n",
        "plt.scatter(ensemble2[:,0],ensemble2[:,1],marker='o',c='r')\n",
        "plt.xlabel('short-term')\n",
        "plt.ylabel('long-term')"
      ],
      "execution_count": 0,
      "outputs": [
        {
          "output_type": "execute_result",
          "data": {
            "text/plain": [
              "Text(0, 0.5, 'long-term')"
            ]
          },
          "metadata": {
            "tags": []
          },
          "execution_count": 43
        },
        {
          "output_type": "display_data",
          "data": {
            "image/png": "[encoded data removed]",
            "text/plain": [
              "<Figure size 432x288 with 1 Axes>"
            ]
          },
          "metadata": {
            "tags": [],
            "needs_background": "light"
          }
        }
      ]
    },
    {
      "cell_type": "code",
      "metadata": {
        "id": "YfgVIQ73PlqU",
        "colab_type": "code",
        "colab": {}
      },
      "source": [
        "ensemble1_results = pd.DataFrame()\n",
        "ensemble2_results = pd.DataFrame()"
      ],
      "execution_count": 0,
      "outputs": []
    },
    {
      "cell_type": "code",
      "metadata": {
        "id": "bKLnbzGyjrHM",
        "colab_type": "code",
        "colab": {}
      },
      "source": [
        "ensemble1_results['short-term'] = ensemble1[:,0]\n",
        "ensemble1_results['long-term'] = ensemble1[:,1]"
      ],
      "execution_count": 0,
      "outputs": []
    },
    {
      "cell_type": "code",
      "metadata": {
        "id": "2fARqU0Yj3NX",
        "colab_type": "code",
        "colab": {}
      },
      "source": [
        "ensemble2_results['short-term'] = ensemble2[:,0]\n",
        "ensemble2_results['long-term'] = ensemble2[:,1]"
      ],
      "execution_count": 0,
      "outputs": []
    },
    {
      "cell_type": "code",
      "metadata": {
        "id": "WAgJtTauj-Wk",
        "colab_type": "code",
        "outputId": "ab4a5f9b-21b0-40e1-9ca9-8121a172b626",
        "colab": {
          "base_uri": "https://localhost:8080/",
          "height": 202
        }
      },
      "source": [
        "ensemble1_results.head()"
      ],
      "execution_count": 0,
      "outputs": [
        {
          "output_type": "execute_result",
          "data": {
            "text/html": [
              "<div>\n",
              "<style scoped>\n",
              "    .dataframe tbody tr th:only-of-type {\n",
              "        vertical-align: middle;\n",
              "    }\n",
              "\n",
              "    .dataframe tbody tr th {\n",
              "        vertical-align: top;\n",
              "    }\n",
              "\n",
              "    .dataframe thead th {\n",
              "        text-align: right;\n",
              "    }\n",
              "</style>\n",
              "<table border=\"1\" class=\"dataframe\">\n",
              "  <thead>\n",
              "    <tr style=\"text-align: right;\">\n",
              "      <th></th>\n",
              "      <th>short-term</th>\n",
              "      <th>long-term</th>\n",
              "    </tr>\n",
              "  </thead>\n",
              "  <tbody>\n",
              "    <tr>\n",
              "      <th>0</th>\n",
              "      <td>0.885587</td>\n",
              "      <td>0.786740</td>\n",
              "    </tr>\n",
              "    <tr>\n",
              "      <th>1</th>\n",
              "      <td>0.865027</td>\n",
              "      <td>0.799861</td>\n",
              "    </tr>\n",
              "    <tr>\n",
              "      <th>2</th>\n",
              "      <td>0.872851</td>\n",
              "      <td>0.811614</td>\n",
              "    </tr>\n",
              "    <tr>\n",
              "      <th>3</th>\n",
              "      <td>0.788447</td>\n",
              "      <td>0.725634</td>\n",
              "    </tr>\n",
              "    <tr>\n",
              "      <th>4</th>\n",
              "      <td>0.879213</td>\n",
              "      <td>0.786784</td>\n",
              "    </tr>\n",
              "  </tbody>\n",
              "</table>\n",
              "</div>"
            ],
            "text/plain": [
              "   short-term  long-term\n",
              "0    0.885587   0.786740\n",
              "1    0.865027   0.799861\n",
              "2    0.872851   0.811614\n",
              "3    0.788447   0.725634\n",
              "4    0.879213   0.786784"
            ]
          },
          "metadata": {
            "tags": []
          },
          "execution_count": 48
        }
      ]
    },
    {
      "cell_type": "code",
      "metadata": {
        "id": "CGkHR5YvkAzQ",
        "colab_type": "code",
        "outputId": "0b588df1-783c-482f-f7fa-df9d4d8a16bf",
        "colab": {
          "base_uri": "https://localhost:8080/",
          "height": 202
        }
      },
      "source": [
        "ensemble2_results.head()"
      ],
      "execution_count": 0,
      "outputs": [
        {
          "output_type": "execute_result",
          "data": {
            "text/html": [
              "<div>\n",
              "<style scoped>\n",
              "    .dataframe tbody tr th:only-of-type {\n",
              "        vertical-align: middle;\n",
              "    }\n",
              "\n",
              "    .dataframe tbody tr th {\n",
              "        vertical-align: top;\n",
              "    }\n",
              "\n",
              "    .dataframe thead th {\n",
              "        text-align: right;\n",
              "    }\n",
              "</style>\n",
              "<table border=\"1\" class=\"dataframe\">\n",
              "  <thead>\n",
              "    <tr style=\"text-align: right;\">\n",
              "      <th></th>\n",
              "      <th>short-term</th>\n",
              "      <th>long-term</th>\n",
              "    </tr>\n",
              "  </thead>\n",
              "  <tbody>\n",
              "    <tr>\n",
              "      <th>0</th>\n",
              "      <td>0.876418</td>\n",
              "      <td>0.782885</td>\n",
              "    </tr>\n",
              "    <tr>\n",
              "      <th>1</th>\n",
              "      <td>0.853919</td>\n",
              "      <td>0.786868</td>\n",
              "    </tr>\n",
              "    <tr>\n",
              "      <th>2</th>\n",
              "      <td>0.854980</td>\n",
              "      <td>0.792605</td>\n",
              "    </tr>\n",
              "    <tr>\n",
              "      <th>3</th>\n",
              "      <td>0.783276</td>\n",
              "      <td>0.707523</td>\n",
              "    </tr>\n",
              "    <tr>\n",
              "      <th>4</th>\n",
              "      <td>0.854408</td>\n",
              "      <td>0.766808</td>\n",
              "    </tr>\n",
              "  </tbody>\n",
              "</table>\n",
              "</div>"
            ],
            "text/plain": [
              "   short-term  long-term\n",
              "0    0.876418   0.782885\n",
              "1    0.853919   0.786868\n",
              "2    0.854980   0.792605\n",
              "3    0.783276   0.707523\n",
              "4    0.854408   0.766808"
            ]
          },
          "metadata": {
            "tags": []
          },
          "execution_count": 50
        }
      ]
    },
    {
      "cell_type": "code",
      "metadata": {
        "id": "IR9B6gB-kGPl",
        "colab_type": "code",
        "outputId": "307402dd-8460-4ef3-ae98-a317e6092890",
        "colab": {
          "base_uri": "https://localhost:8080/",
          "height": 294
        }
      },
      "source": [
        "ensemble1_results.describe()"
      ],
      "execution_count": 0,
      "outputs": [
        {
          "output_type": "execute_result",
          "data": {
            "text/html": [
              "<div>\n",
              "<style scoped>\n",
              "    .dataframe tbody tr th:only-of-type {\n",
              "        vertical-align: middle;\n",
              "    }\n",
              "\n",
              "    .dataframe tbody tr th {\n",
              "        vertical-align: top;\n",
              "    }\n",
              "\n",
              "    .dataframe thead th {\n",
              "        text-align: right;\n",
              "    }\n",
              "</style>\n",
              "<table border=\"1\" class=\"dataframe\">\n",
              "  <thead>\n",
              "    <tr style=\"text-align: right;\">\n",
              "      <th></th>\n",
              "      <th>short-term</th>\n",
              "      <th>long-term</th>\n",
              "    </tr>\n",
              "  </thead>\n",
              "  <tbody>\n",
              "    <tr>\n",
              "      <th>count</th>\n",
              "      <td>1200.000000</td>\n",
              "      <td>1200.000000</td>\n",
              "    </tr>\n",
              "    <tr>\n",
              "      <th>mean</th>\n",
              "      <td>0.859805</td>\n",
              "      <td>0.787050</td>\n",
              "    </tr>\n",
              "    <tr>\n",
              "      <th>std</th>\n",
              "      <td>0.035754</td>\n",
              "      <td>0.053974</td>\n",
              "    </tr>\n",
              "    <tr>\n",
              "      <th>min</th>\n",
              "      <td>0.743243</td>\n",
              "      <td>0.609621</td>\n",
              "    </tr>\n",
              "    <tr>\n",
              "      <th>25%</th>\n",
              "      <td>0.836318</td>\n",
              "      <td>0.752687</td>\n",
              "    </tr>\n",
              "    <tr>\n",
              "      <th>50%</th>\n",
              "      <td>0.862840</td>\n",
              "      <td>0.790780</td>\n",
              "    </tr>\n",
              "    <tr>\n",
              "      <th>75%</th>\n",
              "      <td>0.885342</td>\n",
              "      <td>0.823616</td>\n",
              "    </tr>\n",
              "    <tr>\n",
              "      <th>max</th>\n",
              "      <td>0.964067</td>\n",
              "      <td>0.945833</td>\n",
              "    </tr>\n",
              "  </tbody>\n",
              "</table>\n",
              "</div>"
            ],
            "text/plain": [
              "        short-term    long-term\n",
              "count  1200.000000  1200.000000\n",
              "mean      0.859805     0.787050\n",
              "std       0.035754     0.053974\n",
              "min       0.743243     0.609621\n",
              "25%       0.836318     0.752687\n",
              "50%       0.862840     0.790780\n",
              "75%       0.885342     0.823616\n",
              "max       0.964067     0.945833"
            ]
          },
          "metadata": {
            "tags": []
          },
          "execution_count": 51
        }
      ]
    },
    {
      "cell_type": "code",
      "metadata": {
        "id": "LS-rVeSgkJw5",
        "colab_type": "code",
        "outputId": "8b3e3ffc-79b4-4513-cc3a-fc915762344f",
        "colab": {
          "base_uri": "https://localhost:8080/",
          "height": 294
        }
      },
      "source": [
        "ensemble2_results.describe()"
      ],
      "execution_count": 0,
      "outputs": [
        {
          "output_type": "execute_result",
          "data": {
            "text/html": [
              "<div>\n",
              "<style scoped>\n",
              "    .dataframe tbody tr th:only-of-type {\n",
              "        vertical-align: middle;\n",
              "    }\n",
              "\n",
              "    .dataframe tbody tr th {\n",
              "        vertical-align: top;\n",
              "    }\n",
              "\n",
              "    .dataframe thead th {\n",
              "        text-align: right;\n",
              "    }\n",
              "</style>\n",
              "<table border=\"1\" class=\"dataframe\">\n",
              "  <thead>\n",
              "    <tr style=\"text-align: right;\">\n",
              "      <th></th>\n",
              "      <th>short-term</th>\n",
              "      <th>long-term</th>\n",
              "    </tr>\n",
              "  </thead>\n",
              "  <tbody>\n",
              "    <tr>\n",
              "      <th>count</th>\n",
              "      <td>1200.000000</td>\n",
              "      <td>1200.000000</td>\n",
              "    </tr>\n",
              "    <tr>\n",
              "      <th>mean</th>\n",
              "      <td>0.846658</td>\n",
              "      <td>0.776388</td>\n",
              "    </tr>\n",
              "    <tr>\n",
              "      <th>std</th>\n",
              "      <td>0.032300</td>\n",
              "      <td>0.049267</td>\n",
              "    </tr>\n",
              "    <tr>\n",
              "      <th>min</th>\n",
              "      <td>0.757115</td>\n",
              "      <td>0.643878</td>\n",
              "    </tr>\n",
              "    <tr>\n",
              "      <th>25%</th>\n",
              "      <td>0.823413</td>\n",
              "      <td>0.742616</td>\n",
              "    </tr>\n",
              "    <tr>\n",
              "      <th>50%</th>\n",
              "      <td>0.846814</td>\n",
              "      <td>0.775839</td>\n",
              "    </tr>\n",
              "    <tr>\n",
              "      <th>75%</th>\n",
              "      <td>0.869877</td>\n",
              "      <td>0.808721</td>\n",
              "    </tr>\n",
              "    <tr>\n",
              "      <th>max</th>\n",
              "      <td>0.960744</td>\n",
              "      <td>0.960376</td>\n",
              "    </tr>\n",
              "  </tbody>\n",
              "</table>\n",
              "</div>"
            ],
            "text/plain": [
              "        short-term    long-term\n",
              "count  1200.000000  1200.000000\n",
              "mean      0.846658     0.776388\n",
              "std       0.032300     0.049267\n",
              "min       0.757115     0.643878\n",
              "25%       0.823413     0.742616\n",
              "50%       0.846814     0.775839\n",
              "75%       0.869877     0.808721\n",
              "max       0.960744     0.960376"
            ]
          },
          "metadata": {
            "tags": []
          },
          "execution_count": 52
        }
      ]
    },
    {
      "cell_type": "markdown",
      "metadata": {
        "id": "EzhKpYyfi0-M",
        "colab_type": "text"
      },
      "source": [
        "The predictions of Ensemble 2 is printed in the CSV file as it produced slightly better results than Ensemble 1"
      ]
    },
    {
      "cell_type": "code",
      "metadata": {
        "id": "yhWbfJ2DkexL",
        "colab_type": "code",
        "colab": {}
      },
      "source": [
        "#ensemble1_results.to_csv(\"/content/drive/My Drive/Results_En1.csv\",index=False)"
      ],
      "execution_count": 0,
      "outputs": []
    },
    {
      "cell_type": "code",
      "metadata": {
        "id": "xnX5kv5akhqr",
        "colab_type": "code",
        "colab": {}
      },
      "source": [
        "ensemble2_results.to_csv(\"/content/drive/My Drive/Results_En2.csv\",index=False)"
      ],
      "execution_count": 0,
      "outputs": []
    }
  ]
}